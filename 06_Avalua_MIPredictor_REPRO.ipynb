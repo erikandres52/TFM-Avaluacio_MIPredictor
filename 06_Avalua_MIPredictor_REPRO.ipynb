{
 "cells": [
  {
   "cell_type": "code",
   "execution_count": 1,
   "id": "6b064902",
   "metadata": {},
   "outputs": [],
   "source": [
    "import os\n",
    "import numpy as np\n",
    "import pandas as pd\n",
    "import matplotlib.pyplot as plt\n",
    "from sklearn.preprocessing import MinMaxScaler\n",
    "from joblib import dump, load\n",
    "from sklearn.metrics import confusion_matrix, accuracy_score, roc_auc_score, roc_curve\n",
    "\n",
    "def which_taxo(file):\n",
    "\n",
    "    if (file.find(\"DM2_a.\") != -1):\n",
    "        taxo = pd.read_csv(\"repro/test/taxoS_test_DM2.csv\")\n",
    "        nom = \"DM2 S\"\n",
    "    elif (file.find(\"DM2_b.\") != -1):\n",
    "        taxo = pd.read_csv(\"repro/test/taxoS1_test_DM2.csv\")\n",
    "        nom = \"DM2 S1\"\n",
    "    elif (file.find(\"PD_a.\") != -1):\n",
    "        taxo = pd.read_csv(\"repro/test/taxoS_test_PD.csv\")\n",
    "        nom = \"PD S\"\n",
    "    elif (file.find(\"PD_b.\") != -1):\n",
    "        taxo = pd.read_csv(\"repro/test/taxoS1_test_PD.csv\")\n",
    "        nom = \"PD S1\"\n",
    "    return taxo, nom\n",
    "\n",
    "def filt_y_rows(taxo,meta):\n",
    "    condition = []\n",
    "    for i in range(len(taxo)):\n",
    "        condition.append(pd.DataFrame(meta[\"condition\"][meta[\"sample\"] == \n",
    "                                                        taxo[\"sample\"][i]]).iloc[0,0])\n",
    "    return condition\n",
    "\n",
    "def drop_nas(taxo,meta):\n",
    "    taxo[\"condition\"] = meta\n",
    "    taxo = taxo.dropna()\n",
    "    meta = taxo[\"condition\"]\n",
    "    taxo = taxo.iloc[:,1:-1]\n",
    "    return taxo, meta\n",
    "\n",
    "def get_roc_curves(y_test, y_prob, pos_label):\n",
    "    fper1, tper1, tresholds1 = roc_curve(y_test, y_prob, pos_label=pos_label)\n",
    "    fig,base = plt.subplots()\n",
    "    base.set_title(\"Corba ROC\" + \" \" + nomi)\n",
    "    base.set_xlabel(\"Falsos positius\")\n",
    "    base.set_ylabel(\"Sensibilitat\")\n",
    "    base.plot(fper1, tper1)\n",
    "    base.plot([0,1],[0,1],'-')\n",
    "    fig.savefig(\"repro/metrics/\" + file + '_roc_curve.png')\n",
    "    plt.close()\n",
    "\n",
    "def get_test_metrics(model, x_test, y_test, labels):\n",
    "    y_pred = pd.DataFrame(model.predict(x_test))\n",
    "    y_pred.replace([0,1], labels, inplace=True)\n",
    "    y_prob = model.predict_proba(x_test)[:,1]\n",
    "    tn, fp, fn, tp = confusion_matrix(y_test, y_pred, labels = labels).ravel()\n",
    "    acc = accuracy_score(y_test, y_pred)\n",
    "    sens = tp / (tp+fn)\n",
    "    espe = tn / (tn+fp)\n",
    "    AUC = roc_auc_score(y_test, y_prob)\n",
    "    get_roc_curves(y_test, y_prob, labels[1])\n",
    "    return acc, sens, espe, AUC\n",
    "\n"
   ]
  },
  {
   "cell_type": "code",
   "execution_count": 2,
   "id": "a5cedc75",
   "metadata": {},
   "outputs": [
    {
     "name": "stdout",
     "output_type": "stream",
     "text": [
      "DM2_a.joblib\n"
     ]
    },
    {
     "name": "stderr",
     "output_type": "stream",
     "text": [
      "C:\\Users\\46375547A\\Anaconda3\\lib\\site-packages\\sklearn\\base.py:329: UserWarning: Trying to unpickle estimator DecisionTreeClassifier from version 1.0.1 when using version 1.0.2. This might lead to breaking code or invalid results. Use at your own risk. For more info please refer to:\n",
      "https://scikit-learn.org/stable/modules/model_persistence.html#security-maintainability-limitations\n",
      "  warnings.warn(\n",
      "C:\\Users\\46375547A\\Anaconda3\\lib\\site-packages\\sklearn\\base.py:329: UserWarning: Trying to unpickle estimator RandomForestClassifier from version 1.0.1 when using version 1.0.2. This might lead to breaking code or invalid results. Use at your own risk. For more info please refer to:\n",
      "https://scikit-learn.org/stable/modules/model_persistence.html#security-maintainability-limitations\n",
      "  warnings.warn(\n",
      "C:\\Users\\46375547A\\Anaconda3\\lib\\site-packages\\sklearn\\base.py:443: UserWarning: X has feature names, but RandomForestClassifier was fitted without feature names\n",
      "  warnings.warn(\n",
      "C:\\Users\\46375547A\\Anaconda3\\lib\\site-packages\\sklearn\\base.py:443: UserWarning: X has feature names, but RandomForestClassifier was fitted without feature names\n",
      "  warnings.warn(\n"
     ]
    },
    {
     "name": "stdout",
     "output_type": "stream",
     "text": [
      "DM2_b.joblib\n"
     ]
    },
    {
     "name": "stderr",
     "output_type": "stream",
     "text": [
      "C:\\Users\\46375547A\\Anaconda3\\lib\\site-packages\\sklearn\\base.py:329: UserWarning: Trying to unpickle estimator DecisionTreeClassifier from version 1.0.1 when using version 1.0.2. This might lead to breaking code or invalid results. Use at your own risk. For more info please refer to:\n",
      "https://scikit-learn.org/stable/modules/model_persistence.html#security-maintainability-limitations\n",
      "  warnings.warn(\n",
      "C:\\Users\\46375547A\\Anaconda3\\lib\\site-packages\\sklearn\\base.py:329: UserWarning: Trying to unpickle estimator RandomForestClassifier from version 1.0.1 when using version 1.0.2. This might lead to breaking code or invalid results. Use at your own risk. For more info please refer to:\n",
      "https://scikit-learn.org/stable/modules/model_persistence.html#security-maintainability-limitations\n",
      "  warnings.warn(\n",
      "C:\\Users\\46375547A\\Anaconda3\\lib\\site-packages\\sklearn\\base.py:443: UserWarning: X has feature names, but RandomForestClassifier was fitted without feature names\n",
      "  warnings.warn(\n",
      "C:\\Users\\46375547A\\Anaconda3\\lib\\site-packages\\sklearn\\base.py:443: UserWarning: X has feature names, but RandomForestClassifier was fitted without feature names\n",
      "  warnings.warn(\n"
     ]
    },
    {
     "name": "stdout",
     "output_type": "stream",
     "text": [
      "PD_a.joblib\n"
     ]
    },
    {
     "name": "stderr",
     "output_type": "stream",
     "text": [
      "C:\\Users\\46375547A\\Anaconda3\\lib\\site-packages\\sklearn\\base.py:329: UserWarning: Trying to unpickle estimator DecisionTreeClassifier from version 1.0.1 when using version 1.0.2. This might lead to breaking code or invalid results. Use at your own risk. For more info please refer to:\n",
      "https://scikit-learn.org/stable/modules/model_persistence.html#security-maintainability-limitations\n",
      "  warnings.warn(\n",
      "C:\\Users\\46375547A\\Anaconda3\\lib\\site-packages\\sklearn\\base.py:329: UserWarning: Trying to unpickle estimator RandomForestClassifier from version 1.0.1 when using version 1.0.2. This might lead to breaking code or invalid results. Use at your own risk. For more info please refer to:\n",
      "https://scikit-learn.org/stable/modules/model_persistence.html#security-maintainability-limitations\n",
      "  warnings.warn(\n",
      "C:\\Users\\46375547A\\Anaconda3\\lib\\site-packages\\sklearn\\base.py:443: UserWarning: X has feature names, but RandomForestClassifier was fitted without feature names\n",
      "  warnings.warn(\n",
      "C:\\Users\\46375547A\\Anaconda3\\lib\\site-packages\\sklearn\\base.py:443: UserWarning: X has feature names, but RandomForestClassifier was fitted without feature names\n",
      "  warnings.warn(\n"
     ]
    },
    {
     "name": "stdout",
     "output_type": "stream",
     "text": [
      "PD_b.joblib\n",
      "metrics done\n"
     ]
    },
    {
     "name": "stderr",
     "output_type": "stream",
     "text": [
      "C:\\Users\\46375547A\\Anaconda3\\lib\\site-packages\\sklearn\\base.py:329: UserWarning: Trying to unpickle estimator DecisionTreeClassifier from version 1.0.1 when using version 1.0.2. This might lead to breaking code or invalid results. Use at your own risk. For more info please refer to:\n",
      "https://scikit-learn.org/stable/modules/model_persistence.html#security-maintainability-limitations\n",
      "  warnings.warn(\n",
      "C:\\Users\\46375547A\\Anaconda3\\lib\\site-packages\\sklearn\\base.py:443: UserWarning: X has feature names, but DecisionTreeClassifier was fitted without feature names\n",
      "  warnings.warn(\n",
      "C:\\Users\\46375547A\\Anaconda3\\lib\\site-packages\\sklearn\\base.py:443: UserWarning: X has feature names, but DecisionTreeClassifier was fitted without feature names\n",
      "  warnings.warn(\n"
     ]
    }
   ],
   "source": [
    "DirExists = os.path.exists(\"repro/metrics\")\n",
    "if not DirExists:\n",
    "    os.makedirs(\"repro/metrics\")\n",
    "nom = []\n",
    "nom_model = []\n",
    "N = []\n",
    "acc = []\n",
    "sens = []\n",
    "espe = []\n",
    "AUC = []\n",
    "for file in os.listdir(\"repro/models/mipredictor/\"):\n",
    "    print(file)\n",
    "    x_test, nomi = which_taxo(file)\n",
    "    if (file.find(\"DM2\") != -1):\n",
    "        y = pd.read_csv(\"repro/metadades_DM2.csv\")\n",
    "        labels = [\"Control\", \"DM2\"]\n",
    "    elif (file.find(\"PD\") != -1):\n",
    "        y = pd.read_csv(\"repro/metadades_PD.csv\")\n",
    "        labels = [\"Control\", \"PD\"]\n",
    "    y_test = filt_y_rows(x_test, y)\n",
    "    x_test, y_test = drop_nas(x_test, y_test)\n",
    "    model = load(\"repro/models/mipredictor/\" + file)\n",
    "    N.append(len(x_test))\n",
    "    nom.append(nomi)\n",
    "    nom_model.append(str(model))\n",
    "    acci, sensi, espei, AUCi =  get_test_metrics(model, x_test, y_test, labels)\n",
    "    acc.append(acci)\n",
    "    sens.append(sensi)\n",
    "    espe.append(espei)\n",
    "    AUC.append(AUCi)\n",
    "\n",
    "results = pd.DataFrame()\n",
    "results[\"Nom\"] = nom\n",
    "results[\"Model\"] = nom_model\n",
    "results[\"n (test)\"] = N\n",
    "results[\"Exactitud\"] = acc\n",
    "results[\"Sensibilitat\"] = sens\n",
    "results[\"Especificitat\"] = espe\n",
    "results[\"AUC\"] = AUC\n",
    "\n",
    "results.to_csv(\"repro/metrics/metriques_mipredictor.csv\", index=False)\n",
    "\n",
    "print(\"metrics done\")"
   ]
  },
  {
   "cell_type": "code",
   "execution_count": 3,
   "id": "1f08f2ba",
   "metadata": {},
   "outputs": [
    {
     "data": {
      "text/html": [
       "<div>\n",
       "<style scoped>\n",
       "    .dataframe tbody tr th:only-of-type {\n",
       "        vertical-align: middle;\n",
       "    }\n",
       "\n",
       "    .dataframe tbody tr th {\n",
       "        vertical-align: top;\n",
       "    }\n",
       "\n",
       "    .dataframe thead th {\n",
       "        text-align: right;\n",
       "    }\n",
       "</style>\n",
       "<table border=\"1\" class=\"dataframe\">\n",
       "  <thead>\n",
       "    <tr style=\"text-align: right;\">\n",
       "      <th></th>\n",
       "      <th>Nom</th>\n",
       "      <th>Model</th>\n",
       "      <th>n (test)</th>\n",
       "      <th>Exactitud</th>\n",
       "      <th>Sensibilitat</th>\n",
       "      <th>Especificitat</th>\n",
       "      <th>AUC</th>\n",
       "    </tr>\n",
       "  </thead>\n",
       "  <tbody>\n",
       "    <tr>\n",
       "      <th>0</th>\n",
       "      <td>DM2 S</td>\n",
       "      <td>RandomForestClassifier(n_estimators=10)</td>\n",
       "      <td>30</td>\n",
       "      <td>0.700000</td>\n",
       "      <td>0.666667</td>\n",
       "      <td>0.733333</td>\n",
       "      <td>0.764444</td>\n",
       "    </tr>\n",
       "    <tr>\n",
       "      <th>1</th>\n",
       "      <td>DM2 S1</td>\n",
       "      <td>RandomForestClassifier(n_estimators=10)</td>\n",
       "      <td>30</td>\n",
       "      <td>0.766667</td>\n",
       "      <td>0.800000</td>\n",
       "      <td>0.733333</td>\n",
       "      <td>0.846667</td>\n",
       "    </tr>\n",
       "    <tr>\n",
       "      <th>2</th>\n",
       "      <td>PD S</td>\n",
       "      <td>RandomForestClassifier(n_estimators=10)</td>\n",
       "      <td>21</td>\n",
       "      <td>0.619048</td>\n",
       "      <td>0.272727</td>\n",
       "      <td>1.000000</td>\n",
       "      <td>0.818182</td>\n",
       "    </tr>\n",
       "    <tr>\n",
       "      <th>3</th>\n",
       "      <td>PD S1</td>\n",
       "      <td>DecisionTreeClassifier()</td>\n",
       "      <td>21</td>\n",
       "      <td>0.619048</td>\n",
       "      <td>0.454545</td>\n",
       "      <td>0.800000</td>\n",
       "      <td>0.627273</td>\n",
       "    </tr>\n",
       "  </tbody>\n",
       "</table>\n",
       "</div>"
      ],
      "text/plain": [
       "      Nom                                    Model  n (test)  Exactitud  \\\n",
       "0   DM2 S  RandomForestClassifier(n_estimators=10)        30   0.700000   \n",
       "1  DM2 S1  RandomForestClassifier(n_estimators=10)        30   0.766667   \n",
       "2    PD S  RandomForestClassifier(n_estimators=10)        21   0.619048   \n",
       "3   PD S1                 DecisionTreeClassifier()        21   0.619048   \n",
       "\n",
       "   Sensibilitat  Especificitat       AUC  \n",
       "0      0.666667       0.733333  0.764444  \n",
       "1      0.800000       0.733333  0.846667  \n",
       "2      0.272727       1.000000  0.818182  \n",
       "3      0.454545       0.800000  0.627273  "
      ]
     },
     "execution_count": 3,
     "metadata": {},
     "output_type": "execute_result"
    }
   ],
   "source": [
    "results"
   ]
  },
  {
   "cell_type": "code",
   "execution_count": null,
   "id": "810b6e92",
   "metadata": {},
   "outputs": [],
   "source": []
  }
 ],
 "metadata": {
  "kernelspec": {
   "display_name": "Python 3 (ipykernel)",
   "language": "python",
   "name": "python3"
  },
  "language_info": {
   "codemirror_mode": {
    "name": "ipython",
    "version": 3
   },
   "file_extension": ".py",
   "mimetype": "text/x-python",
   "name": "python",
   "nbconvert_exporter": "python",
   "pygments_lexer": "ipython3",
   "version": "3.9.7"
  }
 },
 "nbformat": 4,
 "nbformat_minor": 5
}
