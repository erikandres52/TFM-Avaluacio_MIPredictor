{
 "cells": [
  {
   "cell_type": "code",
   "execution_count": 1,
   "id": "6b064902",
   "metadata": {},
   "outputs": [],
   "source": [
    "import os\n",
    "import numpy as np\n",
    "import pandas as pd\n",
    "import matplotlib.pyplot as plt\n",
    "from sklearn.preprocessing import MinMaxScaler\n",
    "from joblib import dump, load\n",
    "from sklearn.metrics import confusion_matrix, accuracy_score, roc_auc_score, roc_curve\n",
    "\n",
    "def which_taxo(file):\n",
    "\n",
    "    if (file.find(\"a.\") != -1):\n",
    "        taxo = pd.read_csv(\"test/taxoS_test.csv\")\n",
    "        nom = \"CRC Full S\"\n",
    "    elif (file.find(\"b.\") != -1):\n",
    "        taxo = pd.read_csv(\"test/taxoS1_test.csv\")\n",
    "        nom = \"CRC Full S1\"\n",
    "    elif (file.find(\"k.\") != -1):\n",
    "        taxo = pd.read_csv(\"test/taxoS_test.csv\")\n",
    "        nom = \"CRC Full + Regió S\"\n",
    "    elif (file.find(\"l.\") != -1):\n",
    "        taxo = pd.read_csv(\"test/taxoS1_test.csv\")\n",
    "        nom = \"CRC Full + Regió S1\"\n",
    "    elif (file.find(\"m.\") != -1):\n",
    "        taxo = pd.read_csv(\"test/taxoS_test.csv\")\n",
    "        nom = \"CRC Full + Seq_tool S\"\n",
    "    elif (file.find(\"n.\") != -1):\n",
    "        taxo = pd.read_csv(\"test/taxoS1_test.csv\")\n",
    "        nom = \"CRC Full + Seq_tool S1\"\n",
    "    elif (file.find(\"o.\") != -1):\n",
    "        taxo = pd.read_csv(\"test/taxoS_test.csv\")\n",
    "        nom = \"CRC Full + Regió + Seq_tool S\"\n",
    "    elif (file.find(\"p.\") != -1):\n",
    "        taxo = pd.read_csv(\"test/taxoS1_test.csv\")\n",
    "        nom = \"CRC Full + Regió + Seq_tool S1\"\n",
    "    return taxo, nom\n",
    "\n",
    "def which_meta_extra(file):\n",
    "    if (file.find(\"m.\") != -1) or (file.find(\"n.\") != -1):\n",
    "        meta_extra = [\"seq_tool\"]\n",
    "    \n",
    "    elif (file.find(\"o.\") != -1) or (file.find(\"p.\") != -1):\n",
    "        meta_extra = [\"region\",\"seq_tool\"]\n",
    "        \n",
    "    elif (file.find(\"k.\") != -1) or (file.find(\"l.\") != -1):\n",
    "        meta_extra = [\"region\"]\n",
    "        \n",
    "    else:\n",
    "        meta_extra = []\n",
    "    return meta_extra\n",
    "\n",
    "def filt_y_rows(taxo,meta):\n",
    "    condition = []\n",
    "    for i in range(len(taxo)):\n",
    "        condition.append(pd.DataFrame(meta[\"condition\"][meta[\"sample\"] == \n",
    "                                                        taxo[\"sample\"][i]]).iloc[0,0])\n",
    "    return condition\n",
    "\n",
    "def add_metas(taxo,meta,meta_extra=[]):\n",
    "    for i in meta_extra:\n",
    "        meta_extra_i = []\n",
    "        for j in range(len(taxo)):\n",
    "            meta_extra_i.append(pd.DataFrame(meta[i][meta[\"sample\"] ==\n",
    "                                          taxo[\"sample\"][j]]).iloc[0,0])\n",
    "        taxo[i] = meta_extra_i\n",
    "    return taxo\n",
    "\n",
    "def drop_nas(taxo,meta):\n",
    "    taxo[\"condition\"] = meta\n",
    "    taxo = taxo.dropna()\n",
    "    meta = taxo[\"condition\"]\n",
    "    taxo = taxo.iloc[:,1:-1]\n",
    "    return taxo, meta\n",
    "\n",
    "def get_roc_curves(y_test, y_prob, pos_label):\n",
    "    fper1, tper1, tresholds1 = roc_curve(y_test, y_prob, pos_label=pos_label)\n",
    "    fig,base = plt.subplots()\n",
    "    base.set_title(\"Corba ROC\" + \" \" + nomi)\n",
    "    base.set_xlabel(\"Falsos positius\")\n",
    "    base.set_ylabel(\"Sensibilitat\")\n",
    "    base.plot(fper1, tper1)\n",
    "    base.plot([0,1],[0,1],'-')\n",
    "    fig.savefig(\"metrics/\" + file + '_roc_curve.png')\n",
    "    plt.close()\n",
    "\n",
    "def get_test_metrics(model, x_test, y_test, labels):\n",
    "    y_pred = model.predict(x_test)\n",
    "    y_prob = model.predict_proba(x_test)[:,1]\n",
    "    tn, fp, fn, tp = confusion_matrix(y_test, y_pred, labels = labels).ravel()\n",
    "    acc = accuracy_score(y_test, y_pred)\n",
    "    sens = tp / (tp+fn)\n",
    "    espe = tn / (tn+fp)\n",
    "    AUC = roc_auc_score(y_test, y_prob)\n",
    "    get_roc_curves(y_test, (1 - y_prob), labels[1])\n",
    "    return acc, sens, espe, AUC\n",
    "\n"
   ]
  },
  {
   "cell_type": "code",
   "execution_count": 2,
   "id": "a5cedc75",
   "metadata": {},
   "outputs": [
    {
     "name": "stdout",
     "output_type": "stream",
     "text": [
      "a.joblib\n"
     ]
    },
    {
     "name": "stderr",
     "output_type": "stream",
     "text": [
      "C:\\Users\\46375547A\\Anaconda3\\lib\\site-packages\\sklearn\\base.py:329: UserWarning: Trying to unpickle estimator DecisionTreeClassifier from version 1.0.1 when using version 1.0.2. This might lead to breaking code or invalid results. Use at your own risk. For more info please refer to:\n",
      "https://scikit-learn.org/stable/modules/model_persistence.html#security-maintainability-limitations\n",
      "  warnings.warn(\n",
      "C:\\Users\\46375547A\\Anaconda3\\lib\\site-packages\\sklearn\\base.py:443: UserWarning: X has feature names, but DecisionTreeClassifier was fitted without feature names\n",
      "  warnings.warn(\n",
      "C:\\Users\\46375547A\\Anaconda3\\lib\\site-packages\\sklearn\\base.py:443: UserWarning: X has feature names, but DecisionTreeClassifier was fitted without feature names\n",
      "  warnings.warn(\n"
     ]
    },
    {
     "name": "stdout",
     "output_type": "stream",
     "text": [
      "b.joblib\n"
     ]
    },
    {
     "name": "stderr",
     "output_type": "stream",
     "text": [
      "C:\\Users\\46375547A\\Anaconda3\\lib\\site-packages\\sklearn\\base.py:329: UserWarning: Trying to unpickle estimator DecisionTreeClassifier from version 1.0.1 when using version 1.0.2. This might lead to breaking code or invalid results. Use at your own risk. For more info please refer to:\n",
      "https://scikit-learn.org/stable/modules/model_persistence.html#security-maintainability-limitations\n",
      "  warnings.warn(\n",
      "C:\\Users\\46375547A\\Anaconda3\\lib\\site-packages\\sklearn\\base.py:329: UserWarning: Trying to unpickle estimator RandomForestClassifier from version 1.0.1 when using version 1.0.2. This might lead to breaking code or invalid results. Use at your own risk. For more info please refer to:\n",
      "https://scikit-learn.org/stable/modules/model_persistence.html#security-maintainability-limitations\n",
      "  warnings.warn(\n",
      "C:\\Users\\46375547A\\Anaconda3\\lib\\site-packages\\sklearn\\base.py:443: UserWarning: X has feature names, but RandomForestClassifier was fitted without feature names\n",
      "  warnings.warn(\n",
      "C:\\Users\\46375547A\\Anaconda3\\lib\\site-packages\\sklearn\\base.py:443: UserWarning: X has feature names, but RandomForestClassifier was fitted without feature names\n",
      "  warnings.warn(\n"
     ]
    },
    {
     "name": "stdout",
     "output_type": "stream",
     "text": [
      "k.joblib\n"
     ]
    },
    {
     "name": "stderr",
     "output_type": "stream",
     "text": [
      "C:\\Users\\46375547A\\Anaconda3\\lib\\site-packages\\sklearn\\base.py:329: UserWarning: Trying to unpickle estimator DecisionTreeClassifier from version 1.0.1 when using version 1.0.2. This might lead to breaking code or invalid results. Use at your own risk. For more info please refer to:\n",
      "https://scikit-learn.org/stable/modules/model_persistence.html#security-maintainability-limitations\n",
      "  warnings.warn(\n",
      "C:\\Users\\46375547A\\Anaconda3\\lib\\site-packages\\sklearn\\base.py:443: UserWarning: X has feature names, but DecisionTreeClassifier was fitted without feature names\n",
      "  warnings.warn(\n",
      "C:\\Users\\46375547A\\Anaconda3\\lib\\site-packages\\sklearn\\base.py:443: UserWarning: X has feature names, but DecisionTreeClassifier was fitted without feature names\n",
      "  warnings.warn(\n"
     ]
    },
    {
     "name": "stdout",
     "output_type": "stream",
     "text": [
      "l.joblib\n"
     ]
    },
    {
     "name": "stderr",
     "output_type": "stream",
     "text": [
      "C:\\Users\\46375547A\\Anaconda3\\lib\\site-packages\\sklearn\\base.py:329: UserWarning: Trying to unpickle estimator DecisionTreeClassifier from version 1.0.1 when using version 1.0.2. This might lead to breaking code or invalid results. Use at your own risk. For more info please refer to:\n",
      "https://scikit-learn.org/stable/modules/model_persistence.html#security-maintainability-limitations\n",
      "  warnings.warn(\n",
      "C:\\Users\\46375547A\\Anaconda3\\lib\\site-packages\\sklearn\\base.py:329: UserWarning: Trying to unpickle estimator RandomForestClassifier from version 1.0.1 when using version 1.0.2. This might lead to breaking code or invalid results. Use at your own risk. For more info please refer to:\n",
      "https://scikit-learn.org/stable/modules/model_persistence.html#security-maintainability-limitations\n",
      "  warnings.warn(\n",
      "C:\\Users\\46375547A\\Anaconda3\\lib\\site-packages\\sklearn\\base.py:443: UserWarning: X has feature names, but RandomForestClassifier was fitted without feature names\n",
      "  warnings.warn(\n",
      "C:\\Users\\46375547A\\Anaconda3\\lib\\site-packages\\sklearn\\base.py:443: UserWarning: X has feature names, but RandomForestClassifier was fitted without feature names\n",
      "  warnings.warn(\n"
     ]
    },
    {
     "name": "stdout",
     "output_type": "stream",
     "text": [
      "m.joblib\n"
     ]
    },
    {
     "name": "stderr",
     "output_type": "stream",
     "text": [
      "C:\\Users\\46375547A\\Anaconda3\\lib\\site-packages\\sklearn\\base.py:329: UserWarning: Trying to unpickle estimator DecisionTreeClassifier from version 1.0.1 when using version 1.0.2. This might lead to breaking code or invalid results. Use at your own risk. For more info please refer to:\n",
      "https://scikit-learn.org/stable/modules/model_persistence.html#security-maintainability-limitations\n",
      "  warnings.warn(\n",
      "C:\\Users\\46375547A\\Anaconda3\\lib\\site-packages\\sklearn\\base.py:443: UserWarning: X has feature names, but DecisionTreeClassifier was fitted without feature names\n",
      "  warnings.warn(\n",
      "C:\\Users\\46375547A\\Anaconda3\\lib\\site-packages\\sklearn\\base.py:443: UserWarning: X has feature names, but DecisionTreeClassifier was fitted without feature names\n",
      "  warnings.warn(\n"
     ]
    },
    {
     "name": "stdout",
     "output_type": "stream",
     "text": [
      "n.joblib\n"
     ]
    },
    {
     "name": "stderr",
     "output_type": "stream",
     "text": [
      "C:\\Users\\46375547A\\Anaconda3\\lib\\site-packages\\sklearn\\base.py:329: UserWarning: Trying to unpickle estimator DecisionTreeClassifier from version 1.0.1 when using version 1.0.2. This might lead to breaking code or invalid results. Use at your own risk. For more info please refer to:\n",
      "https://scikit-learn.org/stable/modules/model_persistence.html#security-maintainability-limitations\n",
      "  warnings.warn(\n",
      "C:\\Users\\46375547A\\Anaconda3\\lib\\site-packages\\sklearn\\base.py:443: UserWarning: X has feature names, but DecisionTreeClassifier was fitted without feature names\n",
      "  warnings.warn(\n",
      "C:\\Users\\46375547A\\Anaconda3\\lib\\site-packages\\sklearn\\base.py:443: UserWarning: X has feature names, but DecisionTreeClassifier was fitted without feature names\n",
      "  warnings.warn(\n"
     ]
    },
    {
     "name": "stdout",
     "output_type": "stream",
     "text": [
      "o.joblib\n"
     ]
    },
    {
     "name": "stderr",
     "output_type": "stream",
     "text": [
      "C:\\Users\\46375547A\\Anaconda3\\lib\\site-packages\\sklearn\\base.py:329: UserWarning: Trying to unpickle estimator DecisionTreeClassifier from version 1.0.1 when using version 1.0.2. This might lead to breaking code or invalid results. Use at your own risk. For more info please refer to:\n",
      "https://scikit-learn.org/stable/modules/model_persistence.html#security-maintainability-limitations\n",
      "  warnings.warn(\n",
      "C:\\Users\\46375547A\\Anaconda3\\lib\\site-packages\\sklearn\\base.py:443: UserWarning: X has feature names, but DecisionTreeClassifier was fitted without feature names\n",
      "  warnings.warn(\n",
      "C:\\Users\\46375547A\\Anaconda3\\lib\\site-packages\\sklearn\\base.py:443: UserWarning: X has feature names, but DecisionTreeClassifier was fitted without feature names\n",
      "  warnings.warn(\n"
     ]
    },
    {
     "name": "stdout",
     "output_type": "stream",
     "text": [
      "p.joblib\n",
      "metrics done\n"
     ]
    },
    {
     "name": "stderr",
     "output_type": "stream",
     "text": [
      "C:\\Users\\46375547A\\Anaconda3\\lib\\site-packages\\sklearn\\base.py:329: UserWarning: Trying to unpickle estimator DecisionTreeClassifier from version 1.0.1 when using version 1.0.2. This might lead to breaking code or invalid results. Use at your own risk. For more info please refer to:\n",
      "https://scikit-learn.org/stable/modules/model_persistence.html#security-maintainability-limitations\n",
      "  warnings.warn(\n",
      "C:\\Users\\46375547A\\Anaconda3\\lib\\site-packages\\sklearn\\base.py:329: UserWarning: Trying to unpickle estimator RandomForestClassifier from version 1.0.1 when using version 1.0.2. This might lead to breaking code or invalid results. Use at your own risk. For more info please refer to:\n",
      "https://scikit-learn.org/stable/modules/model_persistence.html#security-maintainability-limitations\n",
      "  warnings.warn(\n",
      "C:\\Users\\46375547A\\Anaconda3\\lib\\site-packages\\sklearn\\base.py:443: UserWarning: X has feature names, but RandomForestClassifier was fitted without feature names\n",
      "  warnings.warn(\n",
      "C:\\Users\\46375547A\\Anaconda3\\lib\\site-packages\\sklearn\\base.py:443: UserWarning: X has feature names, but RandomForestClassifier was fitted without feature names\n",
      "  warnings.warn(\n"
     ]
    }
   ],
   "source": [
    "DirExists = os.path.exists(\"metrics\")\n",
    "if not DirExists:\n",
    "    os.makedirs(\"metrics\")\n",
    "nom = []\n",
    "nom_model = []\n",
    "N = []\n",
    "acc = []\n",
    "sens = []\n",
    "espe = []\n",
    "AUC = []\n",
    "for file in os.listdir(\"models/mipredictor/\"):\n",
    "    print(file)\n",
    "    x_test, nomi = which_taxo(file)\n",
    "    y = pd.read_csv(\"metadades_full.csv\")\n",
    "    meta_extra = which_meta_extra(file)\n",
    "    y_test = filt_y_rows(x_test, y)\n",
    "    x_test = add_metas(x_test, y, meta_extra)\n",
    "    x_test, y_test = drop_nas(x_test, y_test)\n",
    "    model = load(\"models/mipredictor/\" + file)\n",
    "    nom_model.append(str(model))\n",
    "    N.append(len(x_test))\n",
    "    nom.append(nomi)\n",
    "    acci, sensi, espei, AUCi =  get_test_metrics(model, x_test, y_test, [\"Control\",\"CRC\"])\n",
    "    acc.append(acci)\n",
    "    sens.append(sensi)\n",
    "    espe.append(espei)\n",
    "    AUC.append(AUCi)\n",
    "\n",
    "results = pd.DataFrame()\n",
    "results[\"Nom\"] = nom\n",
    "results[\"Model\"] = nom_model\n",
    "results[\"n (test)\"] = N\n",
    "results[\"Exactitud\"] = acc\n",
    "results[\"Sensibilitat\"] = sens\n",
    "results[\"Especificitat\"] = espe\n",
    "results[\"AUC\"] = AUC\n",
    "\n",
    "results.to_csv(\"metrics/metriques_mipredictor.csv\", index=False)\n",
    "\n",
    "print(\"metrics done\")"
   ]
  },
  {
   "cell_type": "code",
   "execution_count": 3,
   "id": "1f08f2ba",
   "metadata": {},
   "outputs": [
    {
     "data": {
      "text/html": [
       "<div>\n",
       "<style scoped>\n",
       "    .dataframe tbody tr th:only-of-type {\n",
       "        vertical-align: middle;\n",
       "    }\n",
       "\n",
       "    .dataframe tbody tr th {\n",
       "        vertical-align: top;\n",
       "    }\n",
       "\n",
       "    .dataframe thead th {\n",
       "        text-align: right;\n",
       "    }\n",
       "</style>\n",
       "<table border=\"1\" class=\"dataframe\">\n",
       "  <thead>\n",
       "    <tr style=\"text-align: right;\">\n",
       "      <th></th>\n",
       "      <th>Nom</th>\n",
       "      <th>Model</th>\n",
       "      <th>n (test)</th>\n",
       "      <th>Exactitud</th>\n",
       "      <th>Sensibilitat</th>\n",
       "      <th>Especificitat</th>\n",
       "      <th>AUC</th>\n",
       "    </tr>\n",
       "  </thead>\n",
       "  <tbody>\n",
       "    <tr>\n",
       "      <th>0</th>\n",
       "      <td>CRC Full S</td>\n",
       "      <td>DecisionTreeClassifier()</td>\n",
       "      <td>45</td>\n",
       "      <td>0.622222</td>\n",
       "      <td>0.521739</td>\n",
       "      <td>0.727273</td>\n",
       "      <td>0.612648</td>\n",
       "    </tr>\n",
       "    <tr>\n",
       "      <th>1</th>\n",
       "      <td>CRC Full S1</td>\n",
       "      <td>RandomForestClassifier(n_estimators=10)</td>\n",
       "      <td>45</td>\n",
       "      <td>0.600000</td>\n",
       "      <td>0.565217</td>\n",
       "      <td>0.636364</td>\n",
       "      <td>0.584980</td>\n",
       "    </tr>\n",
       "    <tr>\n",
       "      <th>2</th>\n",
       "      <td>CRC Full + Regió S</td>\n",
       "      <td>DecisionTreeClassifier()</td>\n",
       "      <td>45</td>\n",
       "      <td>0.622222</td>\n",
       "      <td>0.521739</td>\n",
       "      <td>0.727273</td>\n",
       "      <td>0.612648</td>\n",
       "    </tr>\n",
       "    <tr>\n",
       "      <th>3</th>\n",
       "      <td>CRC Full + Regió S1</td>\n",
       "      <td>RandomForestClassifier(n_estimators=10)</td>\n",
       "      <td>45</td>\n",
       "      <td>0.555556</td>\n",
       "      <td>0.347826</td>\n",
       "      <td>0.772727</td>\n",
       "      <td>0.620553</td>\n",
       "    </tr>\n",
       "    <tr>\n",
       "      <th>4</th>\n",
       "      <td>CRC Full + Seq_tool S</td>\n",
       "      <td>DecisionTreeClassifier()</td>\n",
       "      <td>33</td>\n",
       "      <td>0.515152</td>\n",
       "      <td>0.473684</td>\n",
       "      <td>0.571429</td>\n",
       "      <td>0.565789</td>\n",
       "    </tr>\n",
       "    <tr>\n",
       "      <th>5</th>\n",
       "      <td>CRC Full + Seq_tool S1</td>\n",
       "      <td>DecisionTreeClassifier()</td>\n",
       "      <td>33</td>\n",
       "      <td>0.515152</td>\n",
       "      <td>0.473684</td>\n",
       "      <td>0.571429</td>\n",
       "      <td>0.535714</td>\n",
       "    </tr>\n",
       "    <tr>\n",
       "      <th>6</th>\n",
       "      <td>CRC Full + Regió + Seq_tool S</td>\n",
       "      <td>DecisionTreeClassifier()</td>\n",
       "      <td>33</td>\n",
       "      <td>0.575758</td>\n",
       "      <td>0.578947</td>\n",
       "      <td>0.571429</td>\n",
       "      <td>0.543233</td>\n",
       "    </tr>\n",
       "    <tr>\n",
       "      <th>7</th>\n",
       "      <td>CRC Full + Regió + Seq_tool S1</td>\n",
       "      <td>RandomForestClassifier(n_estimators=10)</td>\n",
       "      <td>33</td>\n",
       "      <td>0.393939</td>\n",
       "      <td>0.473684</td>\n",
       "      <td>0.285714</td>\n",
       "      <td>0.469925</td>\n",
       "    </tr>\n",
       "  </tbody>\n",
       "</table>\n",
       "</div>"
      ],
      "text/plain": [
       "                              Nom                                    Model  \\\n",
       "0                      CRC Full S                 DecisionTreeClassifier()   \n",
       "1                     CRC Full S1  RandomForestClassifier(n_estimators=10)   \n",
       "2              CRC Full + Regió S                 DecisionTreeClassifier()   \n",
       "3             CRC Full + Regió S1  RandomForestClassifier(n_estimators=10)   \n",
       "4           CRC Full + Seq_tool S                 DecisionTreeClassifier()   \n",
       "5          CRC Full + Seq_tool S1                 DecisionTreeClassifier()   \n",
       "6   CRC Full + Regió + Seq_tool S                 DecisionTreeClassifier()   \n",
       "7  CRC Full + Regió + Seq_tool S1  RandomForestClassifier(n_estimators=10)   \n",
       "\n",
       "   n (test)  Exactitud  Sensibilitat  Especificitat       AUC  \n",
       "0        45   0.622222      0.521739       0.727273  0.612648  \n",
       "1        45   0.600000      0.565217       0.636364  0.584980  \n",
       "2        45   0.622222      0.521739       0.727273  0.612648  \n",
       "3        45   0.555556      0.347826       0.772727  0.620553  \n",
       "4        33   0.515152      0.473684       0.571429  0.565789  \n",
       "5        33   0.515152      0.473684       0.571429  0.535714  \n",
       "6        33   0.575758      0.578947       0.571429  0.543233  \n",
       "7        33   0.393939      0.473684       0.285714  0.469925  "
      ]
     },
     "execution_count": 3,
     "metadata": {},
     "output_type": "execute_result"
    }
   ],
   "source": [
    "results"
   ]
  },
  {
   "cell_type": "code",
   "execution_count": null,
   "id": "810b6e92",
   "metadata": {},
   "outputs": [],
   "source": []
  }
 ],
 "metadata": {
  "kernelspec": {
   "display_name": "Python 3 (ipykernel)",
   "language": "python",
   "name": "python3"
  },
  "language_info": {
   "codemirror_mode": {
    "name": "ipython",
    "version": 3
   },
   "file_extension": ".py",
   "mimetype": "text/x-python",
   "name": "python",
   "nbconvert_exporter": "python",
   "pygments_lexer": "ipython3",
   "version": "3.9.7"
  }
 },
 "nbformat": 4,
 "nbformat_minor": 5
}
