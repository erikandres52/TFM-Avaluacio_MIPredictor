{
 "cells": [
  {
   "cell_type": "code",
   "execution_count": 4,
   "id": "6b064902",
   "metadata": {},
   "outputs": [],
   "source": [
    "#!pip install tensorflow\n",
    "#!pip install sdv\n",
    "\n",
    "import os\n",
    "import numpy as np\n",
    "import pandas as pd\n",
    "import matplotlib.pyplot as plt\n",
    "import tensorflow as tf\n",
    "import sdv\n",
    "import joblib\n",
    "from joblib import dump, load\n",
    "\n",
    "from sdv.tabular import GaussianCopula, CTGAN, CopulaGAN, TVAE\n",
    "from sdv.sampling import Condition\n",
    "from sdv.evaluation import evaluate\n",
    "\n",
    "from numpy import random\n",
    "from matplotlib.pyplot import figure\n",
    "from sklearn.preprocessing import MinMaxScaler, RobustScaler\n",
    "from sklearn.model_selection import train_test_split, cross_val_score, GridSearchCV, KFold\n",
    "from sklearn.neighbors import KNeighborsClassifier\n",
    "from sklearn.tree import DecisionTreeClassifier\n",
    "from sklearn.ensemble import RandomForestClassifier\n",
    "from sklearn.svm import SVC\n",
    "from sklearn import metrics\n",
    "from tensorflow import keras\n",
    "from tensorflow.keras import layers, losses\n",
    "from tensorflow.keras.models import Model, Sequential, save_model, load_model\n",
    "from tensorflow.keras.layers import Dense, Input, Conv1D, Activation, Reshape, Flatten, Dropout, MaxPooling1D\n",
    "from tensorflow.keras.callbacks import EarlyStopping, ModelCheckpoint\n",
    "from keras.wrappers.scikit_learn import KerasClassifier\n",
    "from sklearn.metrics import confusion_matrix, accuracy_score, roc_auc_score, roc_curve\n",
    "\n",
    "def which_taxo(file):\n",
    "\n",
    "    if (file.find(\"a_\") != -1):\n",
    "        taxo = pd.read_csv(\"test/taxoS_test.csv\")\n",
    "        nom = \"CRC S\"\n",
    "    elif (file.find(\"b_\") != -1):\n",
    "        taxo = pd.read_csv(\"test/taxoS1_test.csv\")\n",
    "        nom = \"CRC S1\"\n",
    "    elif (file.find(\"k_\") != -1):\n",
    "        taxo = pd.read_csv(\"test/taxoS_test.csv\")\n",
    "        nom = \"CRC + Regió S\"\n",
    "    elif (file.find(\"l_\") != -1):\n",
    "        taxo = pd.read_csv(\"test/taxoS1_test.csv\")\n",
    "        nom = \"CRC + Regió S1\"\n",
    "    elif (file.find(\"m_\") != -1):\n",
    "        taxo = pd.read_csv(\"test/taxoS_test.csv\")\n",
    "        nom = \"CRC + Seq_tool S\"\n",
    "    elif (file.find(\"n_\") != -1):\n",
    "        taxo = pd.read_csv(\"test/taxoS1_test.csv\")\n",
    "        nom = \"CRC + Seq_tool S1\"\n",
    "    elif (file.find(\"o_\") != -1):\n",
    "        taxo = pd.read_csv(\"test/taxoS_test.csv\")\n",
    "        nom = \"CRC + Regió + Seq_tool S\"\n",
    "    elif (file.find(\"p_\") != -1):\n",
    "        taxo = pd.read_csv(\"test/taxoS1_test.csv\")\n",
    "        nom = \"CRC + Regió + Seq_tool S1\"\n",
    "    return taxo, nom\n",
    "\n",
    "def which_meta_extra(file):\n",
    "    if (file.find(\"m_\") != -1) or (file.find(\"n_\") != -1):\n",
    "        meta_extra = [\"seq_tool\"]\n",
    "    \n",
    "    elif (file.find(\"o_\") != -1) or (file.find(\"p_\") != -1):\n",
    "        meta_extra = [\"region\",\"seq_tool\"]\n",
    "        \n",
    "    elif (file.find(\"k_\") != -1) or (file.find(\"l_\") != -1):\n",
    "        meta_extra = [\"region\"]\n",
    "        \n",
    "    else:\n",
    "        meta_extra = []\n",
    "    return meta_extra\n",
    "\n",
    "def filt_y_rows(taxo,meta):\n",
    "    condition = []\n",
    "    for i in range(len(taxo)):\n",
    "        condition.append(pd.DataFrame(meta[\"condition\"][meta[\"sample\"] == \n",
    "                                                        taxo[\"sample\"][i]]).iloc[0,0])\n",
    "    return condition\n",
    "\n",
    "def add_metas(taxo,meta,meta_extra=[]):\n",
    "    for i in meta_extra:\n",
    "        meta_extra_i = []\n",
    "        for j in range(len(taxo)):\n",
    "            meta_extra_i.append(pd.DataFrame(meta[i][meta[\"sample\"] ==\n",
    "                                          taxo[\"sample\"][j]]).iloc[0,0])\n",
    "        taxo[i] = meta_extra_i\n",
    "    return taxo\n",
    "\n",
    "def drop_nas(taxo,meta):\n",
    "    taxo[\"condition\"] = meta\n",
    "    taxo = taxo.dropna()\n",
    "    meta = taxo[\"condition\"]\n",
    "    taxo = taxo.iloc[:,1:-1]\n",
    "    return taxo, meta\n",
    "\n",
    "def get_roc_curves(y_test, y_prob, pos_label):\n",
    "    fper1, tper1, tresholds1 = roc_curve(y_test, y_prob, pos_label=pos_label)\n",
    "    fig,base = plt.subplots()\n",
    "    base.set_title(\"Corba ROC\" + \" \" + nomi)\n",
    "    base.set_xlabel(\"Especificitat\")\n",
    "    base.set_ylabel(\"Sensibilitat\")\n",
    "    base.plot(fper1, tper1)\n",
    "    base.plot([0,1],[0,1],'-')\n",
    "    fig.savefig(\"metrics/\" + file + '_roc_curve.png')\n",
    "    plt.close()\n",
    "\n",
    "def get_test_metrics(file, model, x_test, y_test, labels):\n",
    "    y_pred = model.predict(x_test)\n",
    "    if (file.find(\".h5\") == -1):\n",
    "        y_prob = model.predict_proba(x_test)[:,1]\n",
    "    else:\n",
    "        y_prob = y_pred\n",
    "    y_pred = pd.DataFrame(np.around(y_pred,0).astype(int))\n",
    "    y_pred.replace([0,1], labels, inplace=True)\n",
    "    tn, fp, fn, tp = confusion_matrix(y_test, y_pred, labels = labels).ravel()\n",
    "    acc = accuracy_score(y_test, y_pred)\n",
    "    sens = tp / (tp+fn)\n",
    "    espe = tn / (tn+fp)\n",
    "    AUC = 1 - roc_auc_score(y_test, y_prob)\n",
    "    get_roc_curves(y_test, y_prob, labels[1])\n",
    "    return acc, sens, espe, AUC\n",
    "    \n",
    "def encode_data(x_test, meta_extra, autoencoder):\n",
    "        if len(meta_extra) == 0:\n",
    "            x_test_no_meta = x_test\n",
    "        else:\n",
    "            x_test_no_meta = x_test.iloc[:,0:(-len(meta_extra))]\n",
    "        x_test_no_meta = x_test_no_meta.to_numpy()\n",
    "        x_test_no_meta = np.expand_dims(x_test_no_meta, axis=2)\n",
    "        x_test_no_meta = x_test_no_meta.astype('float32')\n",
    "        encoded_data = autoencoder.encoder(x_test_no_meta).numpy()\n",
    "        encoded_data = pd.DataFrame(encoded_data)\n",
    "        \n",
    "        if len(meta_extra) == 2:\n",
    "            encoded_data[\"region\"] = x_test.reset_index(drop=True).iloc[:,-1]\n",
    "            encoded_data[\"seq_tool\"] = x_test.reset_index(drop=True).iloc[:,-2]\n",
    "        elif len(meta_extra) == 1:\n",
    "            if meta_extra == [\"region\"]:\n",
    "                encoded_data[\"region\"] = x_test.reset_index(drop=True).iloc[:,-1]\n",
    "            else:\n",
    "                encoded_data[\"seq_tool\"] = x_test.reset_index(drop=True).iloc[:,-1]\n",
    "\n",
    "        scaler = MinMaxScaler()\n",
    "        scaler.fit(encoded_data)\n",
    "        encoded_data_scaled = pd.DataFrame(scaler.transform(encoded_data))\n",
    "        return encoded_data_scaled"
   ]
  },
  {
   "cell_type": "code",
   "execution_count": 5,
   "id": "52aba99c",
   "metadata": {},
   "outputs": [
    {
     "data": {
      "text/plain": [
       "715"
      ]
     },
     "execution_count": 5,
     "metadata": {},
     "output_type": "execute_result"
    }
   ],
   "source": [
    "taxo = pd.read_csv(\"test/taxoS1_test.csv\")\n",
    "len(taxo.columns)"
   ]
  },
  {
   "cell_type": "code",
   "execution_count": 23,
   "id": "a5cedc75",
   "metadata": {
    "scrolled": true
   },
   "outputs": [
    {
     "name": "stdout",
     "output_type": "stream",
     "text": [
      "a_encoded.joblib\n"
     ]
    },
    {
     "name": "stderr",
     "output_type": "stream",
     "text": [
      "C:\\Users\\46375547A\\Anaconda3\\lib\\site-packages\\sklearn\\base.py:329: UserWarning: Trying to unpickle estimator KNeighborsClassifier from version 0.24.2 when using version 1.0.2. This might lead to breaking code or invalid results. Use at your own risk. For more info please refer to:\n",
      "https://scikit-learn.org/stable/modules/model_persistence.html#security-maintainability-limitations\n",
      "  warnings.warn(\n"
     ]
    },
    {
     "name": "stdout",
     "output_type": "stream",
     "text": [
      "a_rawdata.joblib\n"
     ]
    },
    {
     "name": "stderr",
     "output_type": "stream",
     "text": [
      "C:\\Users\\46375547A\\Anaconda3\\lib\\site-packages\\sklearn\\base.py:329: UserWarning: Trying to unpickle estimator KNeighborsClassifier from version 0.24.2 when using version 1.0.2. This might lead to breaking code or invalid results. Use at your own risk. For more info please refer to:\n",
      "https://scikit-learn.org/stable/modules/model_persistence.html#security-maintainability-limitations\n",
      "  warnings.warn(\n",
      "C:\\Users\\46375547A\\Anaconda3\\lib\\site-packages\\sklearn\\base.py:443: UserWarning: X has feature names, but KNeighborsClassifier was fitted without feature names\n",
      "  warnings.warn(\n",
      "C:\\Users\\46375547A\\Anaconda3\\lib\\site-packages\\sklearn\\base.py:443: UserWarning: X has feature names, but KNeighborsClassifier was fitted without feature names\n",
      "  warnings.warn(\n"
     ]
    },
    {
     "name": "stdout",
     "output_type": "stream",
     "text": [
      "a_synreal.joblib\n",
      "a_synthetic.h5\n",
      "b_encoded.joblib\n"
     ]
    },
    {
     "name": "stderr",
     "output_type": "stream",
     "text": [
      "C:\\Users\\46375547A\\Anaconda3\\lib\\site-packages\\sklearn\\base.py:329: UserWarning: Trying to unpickle estimator KNeighborsClassifier from version 0.24.2 when using version 1.0.2. This might lead to breaking code or invalid results. Use at your own risk. For more info please refer to:\n",
      "https://scikit-learn.org/stable/modules/model_persistence.html#security-maintainability-limitations\n",
      "  warnings.warn(\n",
      "C:\\Users\\46375547A\\Anaconda3\\lib\\site-packages\\sklearn\\base.py:329: UserWarning: Trying to unpickle estimator DecisionTreeClassifier from version 0.24.2 when using version 1.0.2. This might lead to breaking code or invalid results. Use at your own risk. For more info please refer to:\n",
      "https://scikit-learn.org/stable/modules/model_persistence.html#security-maintainability-limitations\n",
      "  warnings.warn(\n"
     ]
    },
    {
     "name": "stdout",
     "output_type": "stream",
     "text": [
      "b_rawdata.joblib\n"
     ]
    },
    {
     "name": "stderr",
     "output_type": "stream",
     "text": [
      "C:\\Users\\46375547A\\Anaconda3\\lib\\site-packages\\sklearn\\base.py:329: UserWarning: Trying to unpickle estimator RandomForestClassifier from version 0.24.2 when using version 1.0.2. This might lead to breaking code or invalid results. Use at your own risk. For more info please refer to:\n",
      "https://scikit-learn.org/stable/modules/model_persistence.html#security-maintainability-limitations\n",
      "  warnings.warn(\n",
      "C:\\Users\\46375547A\\Anaconda3\\lib\\site-packages\\sklearn\\base.py:443: UserWarning: X has feature names, but RandomForestClassifier was fitted without feature names\n",
      "  warnings.warn(\n",
      "C:\\Users\\46375547A\\Anaconda3\\lib\\site-packages\\sklearn\\base.py:443: UserWarning: X has feature names, but RandomForestClassifier was fitted without feature names\n",
      "  warnings.warn(\n"
     ]
    },
    {
     "name": "stdout",
     "output_type": "stream",
     "text": [
      "b_synreal.h5\n",
      "b_synthetic.h5\n",
      "k_encoded.joblib\n"
     ]
    },
    {
     "name": "stderr",
     "output_type": "stream",
     "text": [
      "C:\\Users\\46375547A\\Anaconda3\\lib\\site-packages\\sklearn\\utils\\validation.py:1688: FutureWarning: Feature names only support names that are all strings. Got feature names with dtypes: ['int', 'str']. An error will be raised in 1.2.\n",
      "  warnings.warn(\n",
      "C:\\Users\\46375547A\\Anaconda3\\lib\\site-packages\\sklearn\\utils\\validation.py:1688: FutureWarning: Feature names only support names that are all strings. Got feature names with dtypes: ['int', 'str']. An error will be raised in 1.2.\n",
      "  warnings.warn(\n",
      "C:\\Users\\46375547A\\Anaconda3\\lib\\site-packages\\sklearn\\base.py:329: UserWarning: Trying to unpickle estimator KNeighborsClassifier from version 0.24.2 when using version 1.0.2. This might lead to breaking code or invalid results. Use at your own risk. For more info please refer to:\n",
      "https://scikit-learn.org/stable/modules/model_persistence.html#security-maintainability-limitations\n",
      "  warnings.warn(\n"
     ]
    },
    {
     "name": "stdout",
     "output_type": "stream",
     "text": [
      "k_rawdata.joblib\n"
     ]
    },
    {
     "name": "stderr",
     "output_type": "stream",
     "text": [
      "C:\\Users\\46375547A\\Anaconda3\\lib\\site-packages\\sklearn\\base.py:329: UserWarning: Trying to unpickle estimator KNeighborsClassifier from version 0.24.2 when using version 1.0.2. This might lead to breaking code or invalid results. Use at your own risk. For more info please refer to:\n",
      "https://scikit-learn.org/stable/modules/model_persistence.html#security-maintainability-limitations\n",
      "  warnings.warn(\n",
      "C:\\Users\\46375547A\\Anaconda3\\lib\\site-packages\\sklearn\\base.py:443: UserWarning: X has feature names, but KNeighborsClassifier was fitted without feature names\n",
      "  warnings.warn(\n",
      "C:\\Users\\46375547A\\Anaconda3\\lib\\site-packages\\sklearn\\base.py:443: UserWarning: X has feature names, but KNeighborsClassifier was fitted without feature names\n",
      "  warnings.warn(\n"
     ]
    },
    {
     "name": "stdout",
     "output_type": "stream",
     "text": [
      "k_synreal.joblib\n"
     ]
    },
    {
     "name": "stderr",
     "output_type": "stream",
     "text": [
      "C:\\Users\\46375547A\\Anaconda3\\lib\\site-packages\\sklearn\\utils\\validation.py:1688: FutureWarning: Feature names only support names that are all strings. Got feature names with dtypes: ['int', 'str']. An error will be raised in 1.2.\n",
      "  warnings.warn(\n",
      "C:\\Users\\46375547A\\Anaconda3\\lib\\site-packages\\sklearn\\utils\\validation.py:1688: FutureWarning: Feature names only support names that are all strings. Got feature names with dtypes: ['int', 'str']. An error will be raised in 1.2.\n",
      "  warnings.warn(\n"
     ]
    },
    {
     "name": "stdout",
     "output_type": "stream",
     "text": [
      "k_synthetic.h5\n"
     ]
    },
    {
     "name": "stderr",
     "output_type": "stream",
     "text": [
      "C:\\Users\\46375547A\\Anaconda3\\lib\\site-packages\\sklearn\\utils\\validation.py:1688: FutureWarning: Feature names only support names that are all strings. Got feature names with dtypes: ['int', 'str']. An error will be raised in 1.2.\n",
      "  warnings.warn(\n",
      "C:\\Users\\46375547A\\Anaconda3\\lib\\site-packages\\sklearn\\utils\\validation.py:1688: FutureWarning: Feature names only support names that are all strings. Got feature names with dtypes: ['int', 'str']. An error will be raised in 1.2.\n",
      "  warnings.warn(\n"
     ]
    },
    {
     "name": "stdout",
     "output_type": "stream",
     "text": [
      "l_encoded.joblib\n"
     ]
    },
    {
     "name": "stderr",
     "output_type": "stream",
     "text": [
      "C:\\Users\\46375547A\\Anaconda3\\lib\\site-packages\\sklearn\\utils\\validation.py:1688: FutureWarning: Feature names only support names that are all strings. Got feature names with dtypes: ['int', 'str']. An error will be raised in 1.2.\n",
      "  warnings.warn(\n",
      "C:\\Users\\46375547A\\Anaconda3\\lib\\site-packages\\sklearn\\utils\\validation.py:1688: FutureWarning: Feature names only support names that are all strings. Got feature names with dtypes: ['int', 'str']. An error will be raised in 1.2.\n",
      "  warnings.warn(\n",
      "C:\\Users\\46375547A\\Anaconda3\\lib\\site-packages\\sklearn\\base.py:329: UserWarning: Trying to unpickle estimator KNeighborsClassifier from version 0.24.2 when using version 1.0.2. This might lead to breaking code or invalid results. Use at your own risk. For more info please refer to:\n",
      "https://scikit-learn.org/stable/modules/model_persistence.html#security-maintainability-limitations\n",
      "  warnings.warn(\n"
     ]
    },
    {
     "name": "stdout",
     "output_type": "stream",
     "text": [
      "l_rawdata.joblib\n"
     ]
    },
    {
     "name": "stderr",
     "output_type": "stream",
     "text": [
      "C:\\Users\\46375547A\\Anaconda3\\lib\\site-packages\\sklearn\\base.py:329: UserWarning: Trying to unpickle estimator KNeighborsClassifier from version 0.24.2 when using version 1.0.2. This might lead to breaking code or invalid results. Use at your own risk. For more info please refer to:\n",
      "https://scikit-learn.org/stable/modules/model_persistence.html#security-maintainability-limitations\n",
      "  warnings.warn(\n",
      "C:\\Users\\46375547A\\Anaconda3\\lib\\site-packages\\sklearn\\base.py:443: UserWarning: X has feature names, but KNeighborsClassifier was fitted without feature names\n",
      "  warnings.warn(\n",
      "C:\\Users\\46375547A\\Anaconda3\\lib\\site-packages\\sklearn\\base.py:443: UserWarning: X has feature names, but KNeighborsClassifier was fitted without feature names\n",
      "  warnings.warn(\n"
     ]
    },
    {
     "name": "stdout",
     "output_type": "stream",
     "text": [
      "l_synreal.joblib\n"
     ]
    },
    {
     "name": "stderr",
     "output_type": "stream",
     "text": [
      "C:\\Users\\46375547A\\Anaconda3\\lib\\site-packages\\sklearn\\utils\\validation.py:1688: FutureWarning: Feature names only support names that are all strings. Got feature names with dtypes: ['int', 'str']. An error will be raised in 1.2.\n",
      "  warnings.warn(\n",
      "C:\\Users\\46375547A\\Anaconda3\\lib\\site-packages\\sklearn\\utils\\validation.py:1688: FutureWarning: Feature names only support names that are all strings. Got feature names with dtypes: ['int', 'str']. An error will be raised in 1.2.\n",
      "  warnings.warn(\n"
     ]
    },
    {
     "name": "stdout",
     "output_type": "stream",
     "text": [
      "l_synthetic.h5\n"
     ]
    },
    {
     "name": "stderr",
     "output_type": "stream",
     "text": [
      "C:\\Users\\46375547A\\Anaconda3\\lib\\site-packages\\sklearn\\utils\\validation.py:1688: FutureWarning: Feature names only support names that are all strings. Got feature names with dtypes: ['int', 'str']. An error will be raised in 1.2.\n",
      "  warnings.warn(\n",
      "C:\\Users\\46375547A\\Anaconda3\\lib\\site-packages\\sklearn\\utils\\validation.py:1688: FutureWarning: Feature names only support names that are all strings. Got feature names with dtypes: ['int', 'str']. An error will be raised in 1.2.\n",
      "  warnings.warn(\n"
     ]
    },
    {
     "name": "stdout",
     "output_type": "stream",
     "text": [
      "m_encoded.joblib\n"
     ]
    },
    {
     "name": "stderr",
     "output_type": "stream",
     "text": [
      "C:\\Users\\46375547A\\Anaconda3\\lib\\site-packages\\sklearn\\utils\\validation.py:1688: FutureWarning: Feature names only support names that are all strings. Got feature names with dtypes: ['int', 'str']. An error will be raised in 1.2.\n",
      "  warnings.warn(\n",
      "C:\\Users\\46375547A\\Anaconda3\\lib\\site-packages\\sklearn\\utils\\validation.py:1688: FutureWarning: Feature names only support names that are all strings. Got feature names with dtypes: ['int', 'str']. An error will be raised in 1.2.\n",
      "  warnings.warn(\n",
      "C:\\Users\\46375547A\\Anaconda3\\lib\\site-packages\\sklearn\\base.py:329: UserWarning: Trying to unpickle estimator SVC from version 0.24.2 when using version 1.0.2. This might lead to breaking code or invalid results. Use at your own risk. For more info please refer to:\n",
      "https://scikit-learn.org/stable/modules/model_persistence.html#security-maintainability-limitations\n",
      "  warnings.warn(\n"
     ]
    },
    {
     "name": "stdout",
     "output_type": "stream",
     "text": [
      "m_rawdata.joblib\n"
     ]
    },
    {
     "name": "stderr",
     "output_type": "stream",
     "text": [
      "C:\\Users\\46375547A\\Anaconda3\\lib\\site-packages\\sklearn\\base.py:329: UserWarning: Trying to unpickle estimator KNeighborsClassifier from version 0.24.2 when using version 1.0.2. This might lead to breaking code or invalid results. Use at your own risk. For more info please refer to:\n",
      "https://scikit-learn.org/stable/modules/model_persistence.html#security-maintainability-limitations\n",
      "  warnings.warn(\n",
      "C:\\Users\\46375547A\\Anaconda3\\lib\\site-packages\\sklearn\\base.py:443: UserWarning: X has feature names, but KNeighborsClassifier was fitted without feature names\n",
      "  warnings.warn(\n",
      "C:\\Users\\46375547A\\Anaconda3\\lib\\site-packages\\sklearn\\base.py:443: UserWarning: X has feature names, but KNeighborsClassifier was fitted without feature names\n",
      "  warnings.warn(\n"
     ]
    },
    {
     "name": "stdout",
     "output_type": "stream",
     "text": [
      "m_synreal.joblib\n"
     ]
    },
    {
     "name": "stderr",
     "output_type": "stream",
     "text": [
      "C:\\Users\\46375547A\\Anaconda3\\lib\\site-packages\\sklearn\\utils\\validation.py:1688: FutureWarning: Feature names only support names that are all strings. Got feature names with dtypes: ['int', 'str']. An error will be raised in 1.2.\n",
      "  warnings.warn(\n",
      "C:\\Users\\46375547A\\Anaconda3\\lib\\site-packages\\sklearn\\utils\\validation.py:1688: FutureWarning: Feature names only support names that are all strings. Got feature names with dtypes: ['int', 'str']. An error will be raised in 1.2.\n",
      "  warnings.warn(\n"
     ]
    },
    {
     "name": "stdout",
     "output_type": "stream",
     "text": [
      "m_synthetic.h5\n"
     ]
    },
    {
     "name": "stderr",
     "output_type": "stream",
     "text": [
      "C:\\Users\\46375547A\\Anaconda3\\lib\\site-packages\\sklearn\\utils\\validation.py:1688: FutureWarning: Feature names only support names that are all strings. Got feature names with dtypes: ['int', 'str']. An error will be raised in 1.2.\n",
      "  warnings.warn(\n",
      "C:\\Users\\46375547A\\Anaconda3\\lib\\site-packages\\sklearn\\utils\\validation.py:1688: FutureWarning: Feature names only support names that are all strings. Got feature names with dtypes: ['int', 'str']. An error will be raised in 1.2.\n",
      "  warnings.warn(\n"
     ]
    },
    {
     "name": "stdout",
     "output_type": "stream",
     "text": [
      "n_encoded.joblib\n"
     ]
    },
    {
     "name": "stderr",
     "output_type": "stream",
     "text": [
      "C:\\Users\\46375547A\\Anaconda3\\lib\\site-packages\\sklearn\\utils\\validation.py:1688: FutureWarning: Feature names only support names that are all strings. Got feature names with dtypes: ['int', 'str']. An error will be raised in 1.2.\n",
      "  warnings.warn(\n",
      "C:\\Users\\46375547A\\Anaconda3\\lib\\site-packages\\sklearn\\utils\\validation.py:1688: FutureWarning: Feature names only support names that are all strings. Got feature names with dtypes: ['int', 'str']. An error will be raised in 1.2.\n",
      "  warnings.warn(\n",
      "C:\\Users\\46375547A\\Anaconda3\\lib\\site-packages\\sklearn\\base.py:329: UserWarning: Trying to unpickle estimator KNeighborsClassifier from version 0.24.2 when using version 1.0.2. This might lead to breaking code or invalid results. Use at your own risk. For more info please refer to:\n",
      "https://scikit-learn.org/stable/modules/model_persistence.html#security-maintainability-limitations\n",
      "  warnings.warn(\n"
     ]
    },
    {
     "name": "stdout",
     "output_type": "stream",
     "text": [
      "n_rawdata.joblib\n"
     ]
    },
    {
     "name": "stderr",
     "output_type": "stream",
     "text": [
      "C:\\Users\\46375547A\\Anaconda3\\lib\\site-packages\\sklearn\\base.py:329: UserWarning: Trying to unpickle estimator KNeighborsClassifier from version 0.24.2 when using version 1.0.2. This might lead to breaking code or invalid results. Use at your own risk. For more info please refer to:\n",
      "https://scikit-learn.org/stable/modules/model_persistence.html#security-maintainability-limitations\n",
      "  warnings.warn(\n",
      "C:\\Users\\46375547A\\Anaconda3\\lib\\site-packages\\sklearn\\base.py:443: UserWarning: X has feature names, but KNeighborsClassifier was fitted without feature names\n",
      "  warnings.warn(\n",
      "C:\\Users\\46375547A\\Anaconda3\\lib\\site-packages\\sklearn\\base.py:443: UserWarning: X has feature names, but KNeighborsClassifier was fitted without feature names\n",
      "  warnings.warn(\n"
     ]
    },
    {
     "name": "stdout",
     "output_type": "stream",
     "text": [
      "n_synreal.h5\n"
     ]
    },
    {
     "name": "stderr",
     "output_type": "stream",
     "text": [
      "C:\\Users\\46375547A\\Anaconda3\\lib\\site-packages\\sklearn\\utils\\validation.py:1688: FutureWarning: Feature names only support names that are all strings. Got feature names with dtypes: ['int', 'str']. An error will be raised in 1.2.\n",
      "  warnings.warn(\n",
      "C:\\Users\\46375547A\\Anaconda3\\lib\\site-packages\\sklearn\\utils\\validation.py:1688: FutureWarning: Feature names only support names that are all strings. Got feature names with dtypes: ['int', 'str']. An error will be raised in 1.2.\n",
      "  warnings.warn(\n"
     ]
    },
    {
     "name": "stdout",
     "output_type": "stream",
     "text": [
      "n_synthetic.h5\n"
     ]
    },
    {
     "name": "stderr",
     "output_type": "stream",
     "text": [
      "C:\\Users\\46375547A\\Anaconda3\\lib\\site-packages\\sklearn\\utils\\validation.py:1688: FutureWarning: Feature names only support names that are all strings. Got feature names with dtypes: ['int', 'str']. An error will be raised in 1.2.\n",
      "  warnings.warn(\n",
      "C:\\Users\\46375547A\\Anaconda3\\lib\\site-packages\\sklearn\\utils\\validation.py:1688: FutureWarning: Feature names only support names that are all strings. Got feature names with dtypes: ['int', 'str']. An error will be raised in 1.2.\n",
      "  warnings.warn(\n"
     ]
    },
    {
     "name": "stdout",
     "output_type": "stream",
     "text": [
      "o_encoded.joblib\n"
     ]
    },
    {
     "name": "stderr",
     "output_type": "stream",
     "text": [
      "C:\\Users\\46375547A\\Anaconda3\\lib\\site-packages\\sklearn\\utils\\validation.py:1688: FutureWarning: Feature names only support names that are all strings. Got feature names with dtypes: ['int', 'str']. An error will be raised in 1.2.\n",
      "  warnings.warn(\n",
      "C:\\Users\\46375547A\\Anaconda3\\lib\\site-packages\\sklearn\\utils\\validation.py:1688: FutureWarning: Feature names only support names that are all strings. Got feature names with dtypes: ['int', 'str']. An error will be raised in 1.2.\n",
      "  warnings.warn(\n",
      "C:\\Users\\46375547A\\Anaconda3\\lib\\site-packages\\sklearn\\base.py:329: UserWarning: Trying to unpickle estimator SVC from version 0.24.2 when using version 1.0.2. This might lead to breaking code or invalid results. Use at your own risk. For more info please refer to:\n",
      "https://scikit-learn.org/stable/modules/model_persistence.html#security-maintainability-limitations\n",
      "  warnings.warn(\n"
     ]
    },
    {
     "name": "stdout",
     "output_type": "stream",
     "text": [
      "o_rawdata.joblib\n"
     ]
    },
    {
     "name": "stderr",
     "output_type": "stream",
     "text": [
      "C:\\Users\\46375547A\\Anaconda3\\lib\\site-packages\\sklearn\\base.py:329: UserWarning: Trying to unpickle estimator KNeighborsClassifier from version 0.24.2 when using version 1.0.2. This might lead to breaking code or invalid results. Use at your own risk. For more info please refer to:\n",
      "https://scikit-learn.org/stable/modules/model_persistence.html#security-maintainability-limitations\n",
      "  warnings.warn(\n",
      "C:\\Users\\46375547A\\Anaconda3\\lib\\site-packages\\sklearn\\base.py:443: UserWarning: X has feature names, but KNeighborsClassifier was fitted without feature names\n",
      "  warnings.warn(\n",
      "C:\\Users\\46375547A\\Anaconda3\\lib\\site-packages\\sklearn\\base.py:443: UserWarning: X has feature names, but KNeighborsClassifier was fitted without feature names\n",
      "  warnings.warn(\n"
     ]
    },
    {
     "name": "stdout",
     "output_type": "stream",
     "text": [
      "o_synreal.joblib\n"
     ]
    },
    {
     "name": "stderr",
     "output_type": "stream",
     "text": [
      "C:\\Users\\46375547A\\Anaconda3\\lib\\site-packages\\sklearn\\utils\\validation.py:1688: FutureWarning: Feature names only support names that are all strings. Got feature names with dtypes: ['int', 'str']. An error will be raised in 1.2.\n",
      "  warnings.warn(\n",
      "C:\\Users\\46375547A\\Anaconda3\\lib\\site-packages\\sklearn\\utils\\validation.py:1688: FutureWarning: Feature names only support names that are all strings. Got feature names with dtypes: ['int', 'str']. An error will be raised in 1.2.\n",
      "  warnings.warn(\n"
     ]
    },
    {
     "name": "stdout",
     "output_type": "stream",
     "text": [
      "o_synthetic.h5\n"
     ]
    },
    {
     "name": "stderr",
     "output_type": "stream",
     "text": [
      "C:\\Users\\46375547A\\Anaconda3\\lib\\site-packages\\sklearn\\utils\\validation.py:1688: FutureWarning: Feature names only support names that are all strings. Got feature names with dtypes: ['int', 'str']. An error will be raised in 1.2.\n",
      "  warnings.warn(\n",
      "C:\\Users\\46375547A\\Anaconda3\\lib\\site-packages\\sklearn\\utils\\validation.py:1688: FutureWarning: Feature names only support names that are all strings. Got feature names with dtypes: ['int', 'str']. An error will be raised in 1.2.\n",
      "  warnings.warn(\n"
     ]
    },
    {
     "name": "stdout",
     "output_type": "stream",
     "text": [
      "p_encoded.joblib\n"
     ]
    },
    {
     "name": "stderr",
     "output_type": "stream",
     "text": [
      "C:\\Users\\46375547A\\Anaconda3\\lib\\site-packages\\sklearn\\utils\\validation.py:1688: FutureWarning: Feature names only support names that are all strings. Got feature names with dtypes: ['int', 'str']. An error will be raised in 1.2.\n",
      "  warnings.warn(\n",
      "C:\\Users\\46375547A\\Anaconda3\\lib\\site-packages\\sklearn\\utils\\validation.py:1688: FutureWarning: Feature names only support names that are all strings. Got feature names with dtypes: ['int', 'str']. An error will be raised in 1.2.\n",
      "  warnings.warn(\n",
      "C:\\Users\\46375547A\\Anaconda3\\lib\\site-packages\\sklearn\\base.py:329: UserWarning: Trying to unpickle estimator KNeighborsClassifier from version 0.24.2 when using version 1.0.2. This might lead to breaking code or invalid results. Use at your own risk. For more info please refer to:\n",
      "https://scikit-learn.org/stable/modules/model_persistence.html#security-maintainability-limitations\n",
      "  warnings.warn(\n"
     ]
    },
    {
     "name": "stdout",
     "output_type": "stream",
     "text": [
      "p_rawdata.joblib\n"
     ]
    },
    {
     "name": "stderr",
     "output_type": "stream",
     "text": [
      "C:\\Users\\46375547A\\Anaconda3\\lib\\site-packages\\sklearn\\base.py:329: UserWarning: Trying to unpickle estimator KNeighborsClassifier from version 0.24.2 when using version 1.0.2. This might lead to breaking code or invalid results. Use at your own risk. For more info please refer to:\n",
      "https://scikit-learn.org/stable/modules/model_persistence.html#security-maintainability-limitations\n",
      "  warnings.warn(\n",
      "C:\\Users\\46375547A\\Anaconda3\\lib\\site-packages\\sklearn\\base.py:443: UserWarning: X has feature names, but KNeighborsClassifier was fitted without feature names\n",
      "  warnings.warn(\n",
      "C:\\Users\\46375547A\\Anaconda3\\lib\\site-packages\\sklearn\\base.py:443: UserWarning: X has feature names, but KNeighborsClassifier was fitted without feature names\n",
      "  warnings.warn(\n"
     ]
    },
    {
     "name": "stdout",
     "output_type": "stream",
     "text": [
      "p_synreal.h5\n"
     ]
    },
    {
     "name": "stderr",
     "output_type": "stream",
     "text": [
      "C:\\Users\\46375547A\\Anaconda3\\lib\\site-packages\\sklearn\\utils\\validation.py:1688: FutureWarning: Feature names only support names that are all strings. Got feature names with dtypes: ['int', 'str']. An error will be raised in 1.2.\n",
      "  warnings.warn(\n",
      "C:\\Users\\46375547A\\Anaconda3\\lib\\site-packages\\sklearn\\utils\\validation.py:1688: FutureWarning: Feature names only support names that are all strings. Got feature names with dtypes: ['int', 'str']. An error will be raised in 1.2.\n",
      "  warnings.warn(\n"
     ]
    },
    {
     "name": "stdout",
     "output_type": "stream",
     "text": [
      "p_synthetic.h5\n"
     ]
    },
    {
     "name": "stderr",
     "output_type": "stream",
     "text": [
      "C:\\Users\\46375547A\\Anaconda3\\lib\\site-packages\\sklearn\\utils\\validation.py:1688: FutureWarning: Feature names only support names that are all strings. Got feature names with dtypes: ['int', 'str']. An error will be raised in 1.2.\n",
      "  warnings.warn(\n",
      "C:\\Users\\46375547A\\Anaconda3\\lib\\site-packages\\sklearn\\utils\\validation.py:1688: FutureWarning: Feature names only support names that are all strings. Got feature names with dtypes: ['int', 'str']. An error will be raised in 1.2.\n",
      "  warnings.warn(\n"
     ]
    },
    {
     "name": "stdout",
     "output_type": "stream",
     "text": [
      "metrics done\n"
     ]
    }
   ],
   "source": [
    "DirExists = os.path.exists(\"metrics\")\n",
    "if not DirExists:\n",
    "    os.makedirs(\"metrics\")\n",
    "nom = []\n",
    "nom_model = []\n",
    "N = []\n",
    "acc = []\n",
    "sens = []\n",
    "espe = []\n",
    "AUC = []\n",
    "for file in os.listdir(\"models/altres_models/\"):\n",
    "    if (file.find(\"autoencoders\") == -1 & file.find(\"synthetizers\") == -1 & file.find(\"params\") == -1 & file.find(\"checkpoints\")==-1):\n",
    "        print(file)\n",
    "        x_test, nomi = which_taxo(file)\n",
    "        y = pd.read_csv(\"metadades_full.csv\")\n",
    "        meta_extra = which_meta_extra(file)\n",
    "        y_test = filt_y_rows(x_test, y)\n",
    "        x_test = add_metas(x_test, y, meta_extra)\n",
    "        x_test, y_test = drop_nas(x_test, y_test)\n",
    "        if (file.find(\"rawdata\") == -1):\n",
    "            autoencoder_filename = \"models/altres_models/autoencoders/\" + file[0] + \"_autoencoder\"\n",
    "            autoencoder = tf.saved_model.load(autoencoder_filename)\n",
    "            x_test = encode_data(x_test, meta_extra, autoencoder)\n",
    "            if (file.find(\"encoded\") == -1):\n",
    "                if (file.find(\"synthetic\") != -1):\n",
    "                    nomi2 = \"(Synthetic)\"\n",
    "                elif (file.find(\"synreal\") != -1):\n",
    "                    nomi2 = \"(Syn+Real)\"\n",
    "            else:\n",
    "                nomi2 = \"(Encoded)\"\n",
    "        else:\n",
    "            nomi2 = \"(Rawdata)\"\n",
    "        nomi = nomi + \" \" + nomi2\n",
    "        if (file.find(\".joblib\") == -1):\n",
    "            model = load_model(\"models/altres_models/\" + file)\n",
    "        else:\n",
    "            model = joblib.load(\"models/altres_models/\" + file)\n",
    "            \n",
    "        N.append(len(x_test))\n",
    "        nom.append(nomi)\n",
    "        nom_model.append(str(model)[0:10])\n",
    "        acci, sensi, espei, AUCi =  get_test_metrics(file, model, x_test, y_test, [\"Control\",\"CRC\"])\n",
    "        acc.append(acci)\n",
    "        sens.append(sensi)\n",
    "        espe.append(espei)\n",
    "        AUC.append(AUCi)\n",
    "\n",
    "results = pd.DataFrame()\n",
    "results[\"Nom\"] = nom\n",
    "results[\"n (test)\"] = N\n",
    "results[\"Model\"] = nom_model\n",
    "results[\"Exactitud\"] = acc\n",
    "results[\"Sensibilitat\"] = sens\n",
    "results[\"Especificitat\"] = espe\n",
    "results[\"AUC\"] = AUC\n",
    "\n",
    "results.to_csv(\"metrics/metriques_models_alternatius.csv\", index=False)\n",
    "\n",
    "print(\"metrics done\")"
   ]
  },
  {
   "cell_type": "code",
   "execution_count": 24,
   "id": "b39dfc50",
   "metadata": {},
   "outputs": [
    {
     "data": {
      "text/html": [
       "<div>\n",
       "<style scoped>\n",
       "    .dataframe tbody tr th:only-of-type {\n",
       "        vertical-align: middle;\n",
       "    }\n",
       "\n",
       "    .dataframe tbody tr th {\n",
       "        vertical-align: top;\n",
       "    }\n",
       "\n",
       "    .dataframe thead th {\n",
       "        text-align: right;\n",
       "    }\n",
       "</style>\n",
       "<table border=\"1\" class=\"dataframe\">\n",
       "  <thead>\n",
       "    <tr style=\"text-align: right;\">\n",
       "      <th></th>\n",
       "      <th>Nom</th>\n",
       "      <th>n (test)</th>\n",
       "      <th>Model</th>\n",
       "      <th>Exactitud</th>\n",
       "      <th>Sensibilitat</th>\n",
       "      <th>Especificitat</th>\n",
       "      <th>AUC</th>\n",
       "    </tr>\n",
       "  </thead>\n",
       "  <tbody>\n",
       "    <tr>\n",
       "      <th>1</th>\n",
       "      <td>CRC S (Rawdata)</td>\n",
       "      <td>45</td>\n",
       "      <td>KNeighbors</td>\n",
       "      <td>0.622222</td>\n",
       "      <td>0.782609</td>\n",
       "      <td>0.454545</td>\n",
       "      <td>0.615613</td>\n",
       "    </tr>\n",
       "    <tr>\n",
       "      <th>5</th>\n",
       "      <td>CRC S1 (Rawdata)</td>\n",
       "      <td>45</td>\n",
       "      <td>RandomFore</td>\n",
       "      <td>0.533333</td>\n",
       "      <td>0.347826</td>\n",
       "      <td>0.727273</td>\n",
       "      <td>0.567194</td>\n",
       "    </tr>\n",
       "    <tr>\n",
       "      <th>9</th>\n",
       "      <td>CRC + Regió S (Rawdata)</td>\n",
       "      <td>45</td>\n",
       "      <td>KNeighbors</td>\n",
       "      <td>0.622222</td>\n",
       "      <td>0.782609</td>\n",
       "      <td>0.454545</td>\n",
       "      <td>0.625494</td>\n",
       "    </tr>\n",
       "    <tr>\n",
       "      <th>13</th>\n",
       "      <td>CRC + Regió S1 (Rawdata)</td>\n",
       "      <td>45</td>\n",
       "      <td>KNeighbors</td>\n",
       "      <td>0.711111</td>\n",
       "      <td>0.565217</td>\n",
       "      <td>0.863636</td>\n",
       "      <td>0.712451</td>\n",
       "    </tr>\n",
       "    <tr>\n",
       "      <th>17</th>\n",
       "      <td>CRC + Seq_tool S (Rawdata)</td>\n",
       "      <td>33</td>\n",
       "      <td>KNeighbors</td>\n",
       "      <td>0.636364</td>\n",
       "      <td>0.789474</td>\n",
       "      <td>0.428571</td>\n",
       "      <td>0.723684</td>\n",
       "    </tr>\n",
       "    <tr>\n",
       "      <th>21</th>\n",
       "      <td>CRC + Seq_tool S1 (Rawdata)</td>\n",
       "      <td>33</td>\n",
       "      <td>KNeighbors</td>\n",
       "      <td>0.454545</td>\n",
       "      <td>0.315789</td>\n",
       "      <td>0.642857</td>\n",
       "      <td>0.503759</td>\n",
       "    </tr>\n",
       "    <tr>\n",
       "      <th>25</th>\n",
       "      <td>CRC + Regió + Seq_tool S (Rawdata)</td>\n",
       "      <td>33</td>\n",
       "      <td>KNeighbors</td>\n",
       "      <td>0.545455</td>\n",
       "      <td>0.684211</td>\n",
       "      <td>0.357143</td>\n",
       "      <td>0.697368</td>\n",
       "    </tr>\n",
       "    <tr>\n",
       "      <th>29</th>\n",
       "      <td>CRC + Regió + Seq_tool S1 (Rawdata)</td>\n",
       "      <td>33</td>\n",
       "      <td>KNeighbors</td>\n",
       "      <td>0.484848</td>\n",
       "      <td>0.421053</td>\n",
       "      <td>0.571429</td>\n",
       "      <td>0.530075</td>\n",
       "    </tr>\n",
       "  </tbody>\n",
       "</table>\n",
       "</div>"
      ],
      "text/plain": [
       "                                    Nom  n (test)       Model  Exactitud  \\\n",
       "1                       CRC S (Rawdata)        45  KNeighbors   0.622222   \n",
       "5                      CRC S1 (Rawdata)        45  RandomFore   0.533333   \n",
       "9               CRC + Regió S (Rawdata)        45  KNeighbors   0.622222   \n",
       "13             CRC + Regió S1 (Rawdata)        45  KNeighbors   0.711111   \n",
       "17           CRC + Seq_tool S (Rawdata)        33  KNeighbors   0.636364   \n",
       "21          CRC + Seq_tool S1 (Rawdata)        33  KNeighbors   0.454545   \n",
       "25   CRC + Regió + Seq_tool S (Rawdata)        33  KNeighbors   0.545455   \n",
       "29  CRC + Regió + Seq_tool S1 (Rawdata)        33  KNeighbors   0.484848   \n",
       "\n",
       "    Sensibilitat  Especificitat       AUC  \n",
       "1       0.782609       0.454545  0.615613  \n",
       "5       0.347826       0.727273  0.567194  \n",
       "9       0.782609       0.454545  0.625494  \n",
       "13      0.565217       0.863636  0.712451  \n",
       "17      0.789474       0.428571  0.723684  \n",
       "21      0.315789       0.642857  0.503759  \n",
       "25      0.684211       0.357143  0.697368  \n",
       "29      0.421053       0.571429  0.530075  "
      ]
     },
     "execution_count": 24,
     "metadata": {},
     "output_type": "execute_result"
    }
   ],
   "source": [
    "results[results[\"Nom\"].str.contains('Rawdata')]"
   ]
  },
  {
   "cell_type": "code",
   "execution_count": 25,
   "id": "bd7614f6",
   "metadata": {},
   "outputs": [
    {
     "data": {
      "text/html": [
       "<div>\n",
       "<style scoped>\n",
       "    .dataframe tbody tr th:only-of-type {\n",
       "        vertical-align: middle;\n",
       "    }\n",
       "\n",
       "    .dataframe tbody tr th {\n",
       "        vertical-align: top;\n",
       "    }\n",
       "\n",
       "    .dataframe thead th {\n",
       "        text-align: right;\n",
       "    }\n",
       "</style>\n",
       "<table border=\"1\" class=\"dataframe\">\n",
       "  <thead>\n",
       "    <tr style=\"text-align: right;\">\n",
       "      <th></th>\n",
       "      <th>Nom</th>\n",
       "      <th>n (test)</th>\n",
       "      <th>Model</th>\n",
       "      <th>Exactitud</th>\n",
       "      <th>Sensibilitat</th>\n",
       "      <th>Especificitat</th>\n",
       "      <th>AUC</th>\n",
       "    </tr>\n",
       "  </thead>\n",
       "  <tbody>\n",
       "    <tr>\n",
       "      <th>0</th>\n",
       "      <td>CRC S (Encoded)</td>\n",
       "      <td>45</td>\n",
       "      <td>KNeighbors</td>\n",
       "      <td>0.777778</td>\n",
       "      <td>0.956522</td>\n",
       "      <td>0.590909</td>\n",
       "      <td>0.741107</td>\n",
       "    </tr>\n",
       "    <tr>\n",
       "      <th>4</th>\n",
       "      <td>CRC S1 (Encoded)</td>\n",
       "      <td>45</td>\n",
       "      <td>KNeighbors</td>\n",
       "      <td>0.577778</td>\n",
       "      <td>0.565217</td>\n",
       "      <td>0.590909</td>\n",
       "      <td>0.613636</td>\n",
       "    </tr>\n",
       "    <tr>\n",
       "      <th>8</th>\n",
       "      <td>CRC + Regió S (Encoded)</td>\n",
       "      <td>45</td>\n",
       "      <td>KNeighbors</td>\n",
       "      <td>0.711111</td>\n",
       "      <td>0.913043</td>\n",
       "      <td>0.500000</td>\n",
       "      <td>0.731225</td>\n",
       "    </tr>\n",
       "    <tr>\n",
       "      <th>12</th>\n",
       "      <td>CRC + Regió S1 (Encoded)</td>\n",
       "      <td>45</td>\n",
       "      <td>KNeighbors</td>\n",
       "      <td>0.533333</td>\n",
       "      <td>0.608696</td>\n",
       "      <td>0.454545</td>\n",
       "      <td>0.582016</td>\n",
       "    </tr>\n",
       "    <tr>\n",
       "      <th>16</th>\n",
       "      <td>CRC + Seq_tool S (Encoded)</td>\n",
       "      <td>33</td>\n",
       "      <td>SVC(C=1, g</td>\n",
       "      <td>0.545455</td>\n",
       "      <td>0.684211</td>\n",
       "      <td>0.357143</td>\n",
       "      <td>0.571429</td>\n",
       "    </tr>\n",
       "    <tr>\n",
       "      <th>20</th>\n",
       "      <td>CRC + Seq_tool S1 (Encoded)</td>\n",
       "      <td>33</td>\n",
       "      <td>KNeighbors</td>\n",
       "      <td>0.515152</td>\n",
       "      <td>0.578947</td>\n",
       "      <td>0.428571</td>\n",
       "      <td>0.541353</td>\n",
       "    </tr>\n",
       "    <tr>\n",
       "      <th>24</th>\n",
       "      <td>CRC + Regió + Seq_tool S (Encoded)</td>\n",
       "      <td>33</td>\n",
       "      <td>SVC(C=1, g</td>\n",
       "      <td>0.575758</td>\n",
       "      <td>0.684211</td>\n",
       "      <td>0.428571</td>\n",
       "      <td>0.509398</td>\n",
       "    </tr>\n",
       "    <tr>\n",
       "      <th>28</th>\n",
       "      <td>CRC + Regió + Seq_tool S1 (Encoded)</td>\n",
       "      <td>33</td>\n",
       "      <td>KNeighbors</td>\n",
       "      <td>0.545455</td>\n",
       "      <td>0.947368</td>\n",
       "      <td>0.000000</td>\n",
       "      <td>0.501880</td>\n",
       "    </tr>\n",
       "  </tbody>\n",
       "</table>\n",
       "</div>"
      ],
      "text/plain": [
       "                                    Nom  n (test)       Model  Exactitud  \\\n",
       "0                       CRC S (Encoded)        45  KNeighbors   0.777778   \n",
       "4                      CRC S1 (Encoded)        45  KNeighbors   0.577778   \n",
       "8               CRC + Regió S (Encoded)        45  KNeighbors   0.711111   \n",
       "12             CRC + Regió S1 (Encoded)        45  KNeighbors   0.533333   \n",
       "16           CRC + Seq_tool S (Encoded)        33  SVC(C=1, g   0.545455   \n",
       "20          CRC + Seq_tool S1 (Encoded)        33  KNeighbors   0.515152   \n",
       "24   CRC + Regió + Seq_tool S (Encoded)        33  SVC(C=1, g   0.575758   \n",
       "28  CRC + Regió + Seq_tool S1 (Encoded)        33  KNeighbors   0.545455   \n",
       "\n",
       "    Sensibilitat  Especificitat       AUC  \n",
       "0       0.956522       0.590909  0.741107  \n",
       "4       0.565217       0.590909  0.613636  \n",
       "8       0.913043       0.500000  0.731225  \n",
       "12      0.608696       0.454545  0.582016  \n",
       "16      0.684211       0.357143  0.571429  \n",
       "20      0.578947       0.428571  0.541353  \n",
       "24      0.684211       0.428571  0.509398  \n",
       "28      0.947368       0.000000  0.501880  "
      ]
     },
     "execution_count": 25,
     "metadata": {},
     "output_type": "execute_result"
    }
   ],
   "source": [
    "results[results[\"Nom\"].str.contains('Encoded')]"
   ]
  },
  {
   "cell_type": "code",
   "execution_count": 26,
   "id": "f9f03aaf",
   "metadata": {},
   "outputs": [
    {
     "data": {
      "text/html": [
       "<div>\n",
       "<style scoped>\n",
       "    .dataframe tbody tr th:only-of-type {\n",
       "        vertical-align: middle;\n",
       "    }\n",
       "\n",
       "    .dataframe tbody tr th {\n",
       "        vertical-align: top;\n",
       "    }\n",
       "\n",
       "    .dataframe thead th {\n",
       "        text-align: right;\n",
       "    }\n",
       "</style>\n",
       "<table border=\"1\" class=\"dataframe\">\n",
       "  <thead>\n",
       "    <tr style=\"text-align: right;\">\n",
       "      <th></th>\n",
       "      <th>Nom</th>\n",
       "      <th>n (test)</th>\n",
       "      <th>Model</th>\n",
       "      <th>Exactitud</th>\n",
       "      <th>Sensibilitat</th>\n",
       "      <th>Especificitat</th>\n",
       "      <th>AUC</th>\n",
       "    </tr>\n",
       "  </thead>\n",
       "  <tbody>\n",
       "    <tr>\n",
       "      <th>3</th>\n",
       "      <td>CRC S (Synthetic)</td>\n",
       "      <td>45</td>\n",
       "      <td>&lt;keras.eng</td>\n",
       "      <td>0.622222</td>\n",
       "      <td>0.608696</td>\n",
       "      <td>0.636364</td>\n",
       "      <td>0.705534</td>\n",
       "    </tr>\n",
       "    <tr>\n",
       "      <th>7</th>\n",
       "      <td>CRC S1 (Synthetic)</td>\n",
       "      <td>45</td>\n",
       "      <td>&lt;keras.eng</td>\n",
       "      <td>0.533333</td>\n",
       "      <td>0.391304</td>\n",
       "      <td>0.681818</td>\n",
       "      <td>0.628458</td>\n",
       "    </tr>\n",
       "    <tr>\n",
       "      <th>11</th>\n",
       "      <td>CRC + Regió S (Synthetic)</td>\n",
       "      <td>45</td>\n",
       "      <td>&lt;keras.eng</td>\n",
       "      <td>0.622222</td>\n",
       "      <td>0.652174</td>\n",
       "      <td>0.590909</td>\n",
       "      <td>0.715415</td>\n",
       "    </tr>\n",
       "    <tr>\n",
       "      <th>15</th>\n",
       "      <td>CRC + Regió S1 (Synthetic)</td>\n",
       "      <td>45</td>\n",
       "      <td>&lt;keras.eng</td>\n",
       "      <td>0.488889</td>\n",
       "      <td>0.000000</td>\n",
       "      <td>1.000000</td>\n",
       "      <td>0.715415</td>\n",
       "    </tr>\n",
       "    <tr>\n",
       "      <th>19</th>\n",
       "      <td>CRC + Seq_tool S (Synthetic)</td>\n",
       "      <td>33</td>\n",
       "      <td>&lt;keras.eng</td>\n",
       "      <td>0.515152</td>\n",
       "      <td>0.473684</td>\n",
       "      <td>0.571429</td>\n",
       "      <td>0.503759</td>\n",
       "    </tr>\n",
       "    <tr>\n",
       "      <th>23</th>\n",
       "      <td>CRC + Seq_tool S1 (Synthetic)</td>\n",
       "      <td>33</td>\n",
       "      <td>&lt;keras.eng</td>\n",
       "      <td>0.636364</td>\n",
       "      <td>0.842105</td>\n",
       "      <td>0.357143</td>\n",
       "      <td>0.507519</td>\n",
       "    </tr>\n",
       "    <tr>\n",
       "      <th>27</th>\n",
       "      <td>CRC + Regió + Seq_tool S (Synthetic)</td>\n",
       "      <td>33</td>\n",
       "      <td>&lt;keras.eng</td>\n",
       "      <td>0.545455</td>\n",
       "      <td>0.578947</td>\n",
       "      <td>0.500000</td>\n",
       "      <td>0.526316</td>\n",
       "    </tr>\n",
       "    <tr>\n",
       "      <th>31</th>\n",
       "      <td>CRC + Regió + Seq_tool S1 (Synthetic)</td>\n",
       "      <td>33</td>\n",
       "      <td>&lt;keras.eng</td>\n",
       "      <td>0.636364</td>\n",
       "      <td>0.684211</td>\n",
       "      <td>0.571429</td>\n",
       "      <td>0.710526</td>\n",
       "    </tr>\n",
       "  </tbody>\n",
       "</table>\n",
       "</div>"
      ],
      "text/plain": [
       "                                      Nom  n (test)       Model  Exactitud  \\\n",
       "3                       CRC S (Synthetic)        45  <keras.eng   0.622222   \n",
       "7                      CRC S1 (Synthetic)        45  <keras.eng   0.533333   \n",
       "11              CRC + Regió S (Synthetic)        45  <keras.eng   0.622222   \n",
       "15             CRC + Regió S1 (Synthetic)        45  <keras.eng   0.488889   \n",
       "19           CRC + Seq_tool S (Synthetic)        33  <keras.eng   0.515152   \n",
       "23          CRC + Seq_tool S1 (Synthetic)        33  <keras.eng   0.636364   \n",
       "27   CRC + Regió + Seq_tool S (Synthetic)        33  <keras.eng   0.545455   \n",
       "31  CRC + Regió + Seq_tool S1 (Synthetic)        33  <keras.eng   0.636364   \n",
       "\n",
       "    Sensibilitat  Especificitat       AUC  \n",
       "3       0.608696       0.636364  0.705534  \n",
       "7       0.391304       0.681818  0.628458  \n",
       "11      0.652174       0.590909  0.715415  \n",
       "15      0.000000       1.000000  0.715415  \n",
       "19      0.473684       0.571429  0.503759  \n",
       "23      0.842105       0.357143  0.507519  \n",
       "27      0.578947       0.500000  0.526316  \n",
       "31      0.684211       0.571429  0.710526  "
      ]
     },
     "execution_count": 26,
     "metadata": {},
     "output_type": "execute_result"
    }
   ],
   "source": [
    "results[results[\"Nom\"].str.contains('Synthetic')]"
   ]
  },
  {
   "cell_type": "code",
   "execution_count": 27,
   "id": "7a9942c6",
   "metadata": {},
   "outputs": [
    {
     "data": {
      "text/html": [
       "<div>\n",
       "<style scoped>\n",
       "    .dataframe tbody tr th:only-of-type {\n",
       "        vertical-align: middle;\n",
       "    }\n",
       "\n",
       "    .dataframe tbody tr th {\n",
       "        vertical-align: top;\n",
       "    }\n",
       "\n",
       "    .dataframe thead th {\n",
       "        text-align: right;\n",
       "    }\n",
       "</style>\n",
       "<table border=\"1\" class=\"dataframe\">\n",
       "  <thead>\n",
       "    <tr style=\"text-align: right;\">\n",
       "      <th></th>\n",
       "      <th>Nom</th>\n",
       "      <th>n (test)</th>\n",
       "      <th>Model</th>\n",
       "      <th>Exactitud</th>\n",
       "      <th>Sensibilitat</th>\n",
       "      <th>Especificitat</th>\n",
       "      <th>AUC</th>\n",
       "    </tr>\n",
       "  </thead>\n",
       "  <tbody>\n",
       "    <tr>\n",
       "      <th>2</th>\n",
       "      <td>CRC S (Syn+Real)</td>\n",
       "      <td>45</td>\n",
       "      <td>KNeighbors</td>\n",
       "      <td>0.666667</td>\n",
       "      <td>0.826087</td>\n",
       "      <td>0.500000</td>\n",
       "      <td>0.747036</td>\n",
       "    </tr>\n",
       "    <tr>\n",
       "      <th>6</th>\n",
       "      <td>CRC S1 (Syn+Real)</td>\n",
       "      <td>45</td>\n",
       "      <td>&lt;keras.eng</td>\n",
       "      <td>0.600000</td>\n",
       "      <td>0.652174</td>\n",
       "      <td>0.545455</td>\n",
       "      <td>0.638340</td>\n",
       "    </tr>\n",
       "    <tr>\n",
       "      <th>10</th>\n",
       "      <td>CRC + Regió S (Syn+Real)</td>\n",
       "      <td>45</td>\n",
       "      <td>KNeighbors</td>\n",
       "      <td>0.688889</td>\n",
       "      <td>0.782609</td>\n",
       "      <td>0.590909</td>\n",
       "      <td>0.697628</td>\n",
       "    </tr>\n",
       "    <tr>\n",
       "      <th>14</th>\n",
       "      <td>CRC + Regió S1 (Syn+Real)</td>\n",
       "      <td>45</td>\n",
       "      <td>KNeighbors</td>\n",
       "      <td>0.600000</td>\n",
       "      <td>0.608696</td>\n",
       "      <td>0.590909</td>\n",
       "      <td>0.628458</td>\n",
       "    </tr>\n",
       "    <tr>\n",
       "      <th>18</th>\n",
       "      <td>CRC + Seq_tool S (Syn+Real)</td>\n",
       "      <td>33</td>\n",
       "      <td>KNeighbors</td>\n",
       "      <td>0.454545</td>\n",
       "      <td>0.631579</td>\n",
       "      <td>0.214286</td>\n",
       "      <td>0.439850</td>\n",
       "    </tr>\n",
       "    <tr>\n",
       "      <th>22</th>\n",
       "      <td>CRC + Seq_tool S1 (Syn+Real)</td>\n",
       "      <td>33</td>\n",
       "      <td>&lt;keras.eng</td>\n",
       "      <td>0.575758</td>\n",
       "      <td>1.000000</td>\n",
       "      <td>0.000000</td>\n",
       "      <td>0.466165</td>\n",
       "    </tr>\n",
       "    <tr>\n",
       "      <th>26</th>\n",
       "      <td>CRC + Regió + Seq_tool S (Syn+Real)</td>\n",
       "      <td>33</td>\n",
       "      <td>KNeighbors</td>\n",
       "      <td>0.606061</td>\n",
       "      <td>0.789474</td>\n",
       "      <td>0.357143</td>\n",
       "      <td>0.556391</td>\n",
       "    </tr>\n",
       "    <tr>\n",
       "      <th>30</th>\n",
       "      <td>CRC + Regió + Seq_tool S1 (Syn+Real)</td>\n",
       "      <td>33</td>\n",
       "      <td>&lt;keras.eng</td>\n",
       "      <td>0.575758</td>\n",
       "      <td>0.894737</td>\n",
       "      <td>0.142857</td>\n",
       "      <td>0.571429</td>\n",
       "    </tr>\n",
       "  </tbody>\n",
       "</table>\n",
       "</div>"
      ],
      "text/plain": [
       "                                     Nom  n (test)       Model  Exactitud  \\\n",
       "2                       CRC S (Syn+Real)        45  KNeighbors   0.666667   \n",
       "6                      CRC S1 (Syn+Real)        45  <keras.eng   0.600000   \n",
       "10              CRC + Regió S (Syn+Real)        45  KNeighbors   0.688889   \n",
       "14             CRC + Regió S1 (Syn+Real)        45  KNeighbors   0.600000   \n",
       "18           CRC + Seq_tool S (Syn+Real)        33  KNeighbors   0.454545   \n",
       "22          CRC + Seq_tool S1 (Syn+Real)        33  <keras.eng   0.575758   \n",
       "26   CRC + Regió + Seq_tool S (Syn+Real)        33  KNeighbors   0.606061   \n",
       "30  CRC + Regió + Seq_tool S1 (Syn+Real)        33  <keras.eng   0.575758   \n",
       "\n",
       "    Sensibilitat  Especificitat       AUC  \n",
       "2       0.826087       0.500000  0.747036  \n",
       "6       0.652174       0.545455  0.638340  \n",
       "10      0.782609       0.590909  0.697628  \n",
       "14      0.608696       0.590909  0.628458  \n",
       "18      0.631579       0.214286  0.439850  \n",
       "22      1.000000       0.000000  0.466165  \n",
       "26      0.789474       0.357143  0.556391  \n",
       "30      0.894737       0.142857  0.571429  "
      ]
     },
     "execution_count": 27,
     "metadata": {},
     "output_type": "execute_result"
    }
   ],
   "source": [
    "results[results[\"Nom\"].str.contains('Real')]"
   ]
  },
  {
   "cell_type": "code",
   "execution_count": null,
   "id": "c6c82990",
   "metadata": {},
   "outputs": [],
   "source": []
  }
 ],
 "metadata": {
  "kernelspec": {
   "display_name": "Python 3 (ipykernel)",
   "language": "python",
   "name": "python3"
  },
  "language_info": {
   "codemirror_mode": {
    "name": "ipython",
    "version": 3
   },
   "file_extension": ".py",
   "mimetype": "text/x-python",
   "name": "python",
   "nbconvert_exporter": "python",
   "pygments_lexer": "ipython3",
   "version": "3.9.7"
  }
 },
 "nbformat": 4,
 "nbformat_minor": 5
}
